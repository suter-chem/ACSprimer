{
 "cells": [
  {
   "cell_type": "code",
   "execution_count": 9,
   "metadata": {},
   "outputs": [
    {
     "name": "stdout",
     "output_type": "stream",
     "text": [
      "12\n",
      "-2\n",
      "35\n",
      "0.7142857142857143\n",
      "78125\n",
      "5\n"
     ]
    }
   ],
   "source": [
    "#Numerical Operations Introduction\n",
    "\n",
    "#Use print() to ensure all calculations are displayed, otherwise the most recent calculation is the only result that will show\n",
    "#addition\n",
    "print(5 + 7)\n",
    "\n",
    "#subtraction \n",
    "print(5 - 7)\n",
    "\n",
    "#multiplication \n",
    "print(5 * 7)\n",
    "\n",
    "#division \n",
    "print(5 / 7)\n",
    "\n",
    "#exponentiation \n",
    "print(5 ** 7)\n",
    "\n",
    "#modulus\n",
    "print(5 & 7)"
   ]
  },
  {
   "cell_type": "code",
   "execution_count": 10,
   "metadata": {},
   "outputs": [
    {
     "data": {
      "text/plain": [
       "12"
      ]
     },
     "execution_count": 10,
     "metadata": {},
     "output_type": "execute_result"
    }
   ],
   "source": [
    "#Variables\n",
    "\n",
    "#use the equal sign to assign variables\n",
    "#ensure to assign descriptive names to variables to make your code clear and understandable\n",
    "\n",
    "five = 5\n",
    "seven = 7\n",
    "five + seven"
   ]
  },
  {
   "cell_type": "code",
   "execution_count": 11,
   "metadata": {},
   "outputs": [
    {
     "name": "stdout",
     "output_type": "stream",
     "text": [
      "1.00 g of Phe-HCl contains 2.99e+21 Phe molecules\n"
     ]
    }
   ],
   "source": [
    "#Calculating the number of phenylalanine molecules in 1.00 g of phenlyalanine hydrochloride\n",
    "\n",
    "#assign constants to variables (your givens)\n",
    "avogadro_number = 6.022 * 10 ** 23\n",
    "phe_hcl_mw = 201.65 #MW of L-phenlyalanine hydrochloride in g/mol\n",
    "\n",
    "#calculate the number of Phe molecules\n",
    "num_phe = 1.00 / phe_hcl_mw * avogadro_number\n",
    "\n",
    "#print result with units\n",
    "print(\"1.00 g of Phe-HCl contains %.2e Phe molecules\" %num_phe)"
   ]
  },
  {
   "cell_type": "code",
   "execution_count": 12,
   "metadata": {},
   "outputs": [
    {
     "data": {
      "text/plain": [
       "2.9863625092982893e+21"
      ]
     },
     "execution_count": 12,
     "metadata": {},
     "output_type": "execute_result"
    }
   ],
   "source": [
    "#Same result with less context\n",
    "\n",
    "#we can carry out the previous calculation without having to write as much code\n",
    "#HOWEVER, this can leads to more errors and does not make what you are doing as obvious\n",
    "#make sure to write comments to explain what you're doing\n",
    "1.00 / 201.65 * 6.022 * 10 ** 23"
   ]
  },
  {
   "cell_type": "code",
   "execution_count": 13,
   "metadata": {},
   "outputs": [
    {
     "data": {
      "text/plain": [
       "120"
      ]
     },
     "execution_count": 13,
     "metadata": {},
     "output_type": "execute_result"
    }
   ],
   "source": [
    "#Intro to Modules\n",
    "\n",
    "#we can import entire modules, and we can call any function within that module\n",
    "import math\n",
    "math.factorial(5)\n"
   ]
  },
  {
   "cell_type": "code",
   "execution_count": 14,
   "metadata": {},
   "outputs": [
    {
     "data": {
      "text/plain": [
       "120"
      ]
     },
     "execution_count": 14,
     "metadata": {},
     "output_type": "execute_result"
    }
   ],
   "source": [
    "5 * 4 * 3 * 2 * 1"
   ]
  },
  {
   "cell_type": "code",
   "execution_count": 15,
   "metadata": {},
   "outputs": [
    {
     "data": {
      "text/plain": [
       "3.141592653589793"
      ]
     },
     "execution_count": 15,
     "metadata": {},
     "output_type": "execute_result"
    }
   ],
   "source": [
    "#Selective Importing\n",
    "\n",
    "#Sometimes we only want some f(x)'s from a module\n",
    "#We can specify the few functions/variables we import\n",
    "from math import pi, log #import pi variable and natural logarithm function\n",
    "pi"
   ]
  },
  {
   "cell_type": "code",
   "execution_count": 16,
   "metadata": {},
   "outputs": [
    {
     "data": {
      "text/plain": [
       "1.6094379124341003"
      ]
     },
     "execution_count": 16,
     "metadata": {},
     "output_type": "execute_result"
    }
   ],
   "source": [
    "log(5) #natural log of 5"
   ]
  },
  {
   "cell_type": "code",
   "execution_count": 17,
   "metadata": {},
   "outputs": [
    {
     "data": {
      "text/plain": [
       "0.5"
      ]
     },
     "execution_count": 17,
     "metadata": {},
     "output_type": "execute_result"
    }
   ],
   "source": [
    "#Using other bases\n",
    "log(5, 25) #log of 5 with log base of 25"
   ]
  },
  {
   "cell_type": "code",
   "execution_count": 26,
   "metadata": {},
   "outputs": [
    {
     "name": "stdout",
     "output_type": "stream",
     "text": [
      "You will need:\n",
      "0.22226600000000002 g of benzodioxaborole\n",
      "0.135 g of bromopropene\n",
      "0.0115559 g of catalyst\n"
     ]
    }
   ],
   "source": [
    "#Practice Problem 1.1\n",
    "\n",
    "#Using the given Suzuki Cross-coupling rxn, calculate the mass of each reagent/catalyst to add to run the rxn at 1.0 mmol scale\n",
    "\n",
    "#MW\n",
    "benzodioxaborole_mw = 202.06 #g/mol\n",
    "bromopropene_mw = 135.00 #g/mol\n",
    "pd_catalyst_mw = 1155.59 #g/mol\n",
    "\n",
    "#answer\n",
    "benzodioxaborole_added = benzodioxaborole_mw * 1.1 * 10 ** (-3)\n",
    "bromopropene_added = bromopropene_mw * 10 ** (-3)\n",
    "pd_catalyst_added = pd_catalyst_mw * 0.01 * 10 ** (-3)\n",
    "\n",
    "print(\"You will need:\")\n",
    "print(benzodioxaborole_added, \"g of benzodioxaborole\")\n",
    "print(bromopropene_added, \"g of bromopropene\")\n",
    "print(pd_catalyst_added, \"g of catalyst\")"
   ]
  },
  {
   "cell_type": "code",
   "execution_count": 42,
   "metadata": {},
   "outputs": [
    {
     "name": "stdout",
     "output_type": "stream",
     "text": [
      "21.759999999999998 units\n",
      "30.22222222222222 units/mg\n"
     ]
    }
   ],
   "source": [
    "#Practice Problem 1.2\n",
    "\n",
    "# L-arabinose reductase LarA catalyzes the reduction of L-arabinose to L-arabitol\n",
    "# The assay for LarA activity with L-arabinose as the substrate follows Michaelis-Menton kinetics with Km of 54mM\n",
    "# An assay with 0.72 mg of enzyme and 10mM of L-arabinose exhibited a velocity of 3.4 units\n",
    "# Calculate Vmax and kcat\n",
    "\n",
    "# Michaelis-Menton equation\n",
    "# velocity = (Vmax * S)/(Km + S)\n",
    "# Vmax is velocity at excess substrate, S is substrate concentration, Km is Michaelis Menton constant\n",
    "\n",
    "velocity = 3.4\n",
    "km = 54 #mM\n",
    "s = 10 #mM\n",
    "\n",
    "# the velocity equation can be rewritten to solve for Vmax\n",
    "# (velocity/Vmax) = S / (Km + S)\n",
    "# (1/Vmax) = S / ((velocity)(Km + S))\n",
    "# Vmax = ((velocity)(Km + S)) / S\n",
    "\n",
    "vmax = ((velocity)*(km + s)) / s\n",
    "print(Vmax, \"units\")\n",
    "\n",
    "\n",
    "# turnover number eqn\n",
    "# Vmax = kcat * [E]\n",
    "# [E] is enzyme concentration\n",
    "# can rewrite the function as kcat = Vmax/[E]\n",
    "\n",
    "enzyme = 0.72 #mg\n",
    "kcat = vmax / enzyme\n",
    "print(kcat, \"units/mg\")"
   ]
  },
  {
   "cell_type": "code",
   "execution_count": 58,
   "metadata": {},
   "outputs": [
    {
     "name": "stdout",
     "output_type": "stream",
     "text": [
      "The chlorophyll a concentration of the original sample is 9.6 mg/L\n"
     ]
    }
   ],
   "source": [
    "# Practice Problem 1.3\n",
    "\n",
    "# Suppose we are quantifying chlorophyll a concentration in environmental samples\n",
    "# The specific absorption coefficient epsilon was previously determined as 84.3 L/(g*cm) at 664 nm for organic extract of chlorophyll a\n",
    "# Five mL of H2O sample was extracted in ether to a final volume of 13 mL and yielded an abosrbance of 0.31 units at 664 nm with 1 cm path length\n",
    "# Use Beer-Lambert law to estimate the chlorophyll a concentration\n",
    "\n",
    "# assign known values\n",
    "\n",
    "eps = 84.3 #L/(g*cm)\n",
    "wavelength = 664 #nm\n",
    "vi = 5 #mL\n",
    "vf = 13 #mL\n",
    "path = 1 #cm\n",
    "absorbance = 0.31\n",
    "\n",
    "\n",
    "# Beer Lambert is A = epsilon * conc * path length\n",
    "# We want to know the chlorophyll a concentration, so rewrite as \n",
    "# (A)/(epsilon * path length) = concentration\n",
    "\n",
    "concFin = absorbance / (eps * path)\n",
    "# concentration gives us the concentration of the diluted sample \n",
    "concInit = vf * cf / vi #this accounts for the 13 mL\n",
    "concInit *= 1000 #this accounts for the difference between eps units and volume units\n",
    "print('The chlorophyll a concentration of the original sample is %.1f mg/L' %concInit)\n"
   ]
  },
  {
   "cell_type": "code",
   "execution_count": 5,
   "metadata": {},
   "outputs": [
    {
     "name": "stdout",
     "output_type": "stream",
     "text": [
      "150000000000.0 16000000.0\n"
     ]
    }
   ],
   "source": [
    "# Practice Problem 1.4\n",
    "\n",
    "# Atmospheric carbon dioxide level is estimated to have risen by over 100 ppm since the industrial revolution.\n",
    "# Aqueous carbon dioxide is in equilibrium with aqueous carbonic acid; thus an increase in the atmospheric carbon dioxide can lower the pH of water.\n",
    "# Acidification of the ocean is a concern for marine ecosystems because shells and skeletons of marine organisms in coral reefs, \n",
    "# which are made of calcium carbonate, can dissolve at lower pH levels. \n",
    "# Calculate the change in pH in pure water exposed to the atmosphere due to the increase in CO2 levels from 280 to 380 ppm. \n",
    "# Assume the dissociation from bicarbonate to carbonate is negligible.\n",
    "# Relevant equilibrium constants are given.\n",
    "\n",
    "# Henry's Law: [gas] = P / Kh\n",
    "# P is pressure, Kh is Henry's law constant for carbon dioxide (29.41 atm / M)\n",
    "\n",
    "k1 = 1.5 * 10 ** (-3) # for CO2 <-> H2CO3\n",
    "k2 = 1.6 * 10 ** (-7) # for H2CO3 <-> HCO3- + H3O+\n",
    "keq = k1 * k2 # since the system is in equilibrium\n",
    "\n",
    "m1 = 280 * 10 ** (-6) # converting 280 ppm to atm\n",
    "m2 = 380 * 10 ** (-6) # converting 380 ppm to atm\n",
    "\n"
   ]
  },
  {
   "cell_type": "code",
   "execution_count": 6,
   "metadata": {},
   "outputs": [
    {
     "data": {
      "text/plain": [
       "'CellarDoor'"
      ]
     },
     "execution_count": 6,
     "metadata": {},
     "output_type": "execute_result"
    }
   ],
   "source": [
    "# String Operations\n",
    "\n",
    "# save strings to variables\n",
    "cellar = 'Cellar'\n",
    "door = 'Door'\n",
    "\n",
    "# concatenate the two strings\n",
    "cellar + door"
   ]
  },
  {
   "cell_type": "code",
   "execution_count": 7,
   "metadata": {},
   "outputs": [
    {
     "data": {
      "text/plain": [
       "'Cellar Door'"
      ]
     },
     "execution_count": 7,
     "metadata": {},
     "output_type": "execute_result"
    }
   ],
   "source": [
    "# now concatenate the strings with a space between each substring\n",
    "' '.join([cellar, door])"
   ]
  },
  {
   "cell_type": "code",
   "execution_count": 8,
   "metadata": {},
   "outputs": [
    {
     "name": "stdout",
     "output_type": "stream",
     "text": [
      "C e l\n"
     ]
    }
   ],
   "source": [
    "# print first, second, and third letter of 'Cellar'\n",
    "print(cellar[0], cellar[1], cellar[2])"
   ]
  },
  {
   "cell_type": "code",
   "execution_count": 9,
   "metadata": {},
   "outputs": [
    {
     "name": "stdout",
     "output_type": "stream",
     "text": [
      "o r\n"
     ]
    }
   ],
   "source": [
    "# print second to last and last letter of 'Door' \n",
    "print(door[-2], door[-1])"
   ]
  },
  {
   "cell_type": "code",
   "execution_count": 10,
   "metadata": {},
   "outputs": [
    {
     "data": {
      "text/plain": [
       "'oor'"
      ]
     },
     "execution_count": 10,
     "metadata": {},
     "output_type": "execute_result"
    }
   ],
   "source": [
    "# Substrings are accessible by specifying or leaving blank the start and end indices\n",
    "\n",
    "door[1:] # skips first letter which is the 0 index"
   ]
  },
  {
   "cell_type": "code",
   "execution_count": 11,
   "metadata": {},
   "outputs": [
    {
     "data": {
      "text/plain": [
       "'Cell'"
      ]
     },
     "execution_count": 11,
     "metadata": {},
     "output_type": "execute_result"
    }
   ],
   "source": [
    "cellar[:4] # include up to the first four letters"
   ]
  },
  {
   "cell_type": "code",
   "execution_count": 12,
   "metadata": {},
   "outputs": [
    {
     "data": {
      "text/plain": [
       "'oo'"
      ]
     },
     "execution_count": 12,
     "metadata": {},
     "output_type": "execute_result"
    }
   ],
   "source": [
    "door[1:3] # print out indices 1, 2 and excludes 3"
   ]
  },
  {
   "cell_type": "code",
   "execution_count": 13,
   "metadata": {},
   "outputs": [
    {
     "data": {
      "text/plain": [
       "'ella'"
      ]
     },
     "execution_count": 13,
     "metadata": {},
     "output_type": "execute_result"
    }
   ],
   "source": [
    "cellar[1:-1] # skip first and omit last letter"
   ]
  },
  {
   "cell_type": "code",
   "execution_count": 14,
   "metadata": {},
   "outputs": [
    {
     "data": {
      "text/plain": [
       "'Cla'"
      ]
     },
     "execution_count": 14,
     "metadata": {},
     "output_type": "execute_result"
    }
   ],
   "source": [
    "# The third position indicates the increment of the string\n",
    "# The default is to print every letter\n",
    "cellar[::2] # print every other letter"
   ]
  },
  {
   "cell_type": "code",
   "execution_count": 15,
   "metadata": {},
   "outputs": [
    {
     "data": {
      "text/plain": [
       "'rooD'"
      ]
     },
     "execution_count": 15,
     "metadata": {},
     "output_type": "execute_result"
    }
   ],
   "source": [
    "door[::-1]"
   ]
  },
  {
   "cell_type": "code",
   "execution_count": 18,
   "metadata": {},
   "outputs": [
    {
     "data": {
      "text/plain": [
       "876"
      ]
     },
     "execution_count": 18,
     "metadata": {},
     "output_type": "execute_result"
    }
   ],
   "source": [
    "rfp = 'agtttcagccagtgacagggtgagctgccaggtattctaacaagatgagttgttccaagaatgtgatcaaggagttcatgaggttcaaggttcgtatggaaggaacggtcaatgggcacgagtttgaaataaaaggcgaaggtgaagggaggccttacgaaggtcactgttccgtaaagettatggtaaccaagggtggacctttgccatttgcttttgatattttgtcaccacaatttcagtatggaagcaaggtatatgtcaaacaccctgccgacataccagactataaaaagctgtcatttcctgagggatttaaatgggaaagggtcatgaactttgaagacggtggcgtggttactgtatcccaagattccagtttgaaagacggetgtttcatctacgaggtcaagttcattggggtgaactttecttctgatggacctgttatgcagaggaggacacggggctgggaagccagctctgagcgtttgtatcctcgtgatggggtgctgaaaggagacatccatatggctctgaggctggaaggaggcggecattacctcgttgaattcaaaagtatttacatggtaaagaagecttcagtgcagttgccaggctactattatgttgactccaaactggatatgacgagccacaacgaagattacacagtegttgagcagtatgaaaaaacccagggacgccaccatccgttcattaagcetctgcagtgaactcggctcagtcatggattagcggtaatggccacaaaaggcacgatgatcgttttttaggaatgcagccaaaaattgaaggttatgacagtagaaatacaagcaacaggctttgcttattaaacatgtaattgaaaac'\n",
    "len(rfp)"
   ]
  },
  {
   "cell_type": "code",
   "execution_count": 20,
   "metadata": {},
   "outputs": [
    {
     "name": "stdout",
     "output_type": "stream",
     "text": [
      "First 30 nucleotides of RFP:\n",
      "AGTTTCAGCCAGTGACAGGGTGAGCTGCCA\n",
      "Last 30 nucleotides of RFP:\n",
      "GCTTTGCTTATTAAACATGTAATTGAAAAC\n"
     ]
    }
   ],
   "source": [
    "# We need the start and end of the gene to define the region to amplify by PCR\n",
    "rfp_start = rfp[:30].upper() # first 30 nucleotides\n",
    "rfp_end = rfp[-30:].upper() # last 30 nucleotides\n",
    "\n",
    "print('First 30 nucleotides of RFP:')\n",
    "print(rfp_start)\n",
    "print('Last 30 nucleotides of RFP:')\n",
    "print(rfp_end)"
   ]
  },
  {
   "cell_type": "code",
   "execution_count": null,
   "metadata": {},
   "outputs": [],
   "source": []
  }
 ],
 "metadata": {
  "kernelspec": {
   "display_name": "Python 3.10.4 64-bit",
   "language": "python",
   "name": "python3"
  },
  "language_info": {
   "codemirror_mode": {
    "name": "ipython",
    "version": 3
   },
   "file_extension": ".py",
   "mimetype": "text/x-python",
   "name": "python",
   "nbconvert_exporter": "python",
   "pygments_lexer": "ipython3",
   "version": "3.10.4"
  },
  "orig_nbformat": 4,
  "vscode": {
   "interpreter": {
    "hash": "aee8b7b246df8f9039afb4144a1f6fd8d2ca17a180786b69acc140d282b71a49"
   }
  }
 },
 "nbformat": 4,
 "nbformat_minor": 2
}
