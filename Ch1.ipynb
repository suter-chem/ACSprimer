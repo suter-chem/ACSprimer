{
 "cells": [
  {
   "cell_type": "code",
   "execution_count": 22,
   "metadata": {},
   "outputs": [
    {
     "name": "stdout",
     "output_type": "stream",
     "text": [
      "12\n",
      "-2\n",
      "35\n",
      "0.7142857142857143\n",
      "78125\n",
      "5\n"
     ]
    }
   ],
   "source": [
    "#Numerical Operations Introduction\n",
    "\n",
    "#Use print() to ensure all calculations are displayed, otherwise the most recent calculation is the only result that will show\n",
    "#addition\n",
    "print(5 + 7)\n",
    "\n",
    "#subtraction \n",
    "print(5 - 7)\n",
    "\n",
    "#multiplication \n",
    "print(5 * 7)\n",
    "\n",
    "#division \n",
    "print(5 / 7)\n",
    "\n",
    "#exponentiation \n",
    "print(5 ** 7)\n",
    "\n",
    "#modulus\n",
    "print(5 & 7)"
   ]
  },
  {
   "cell_type": "code",
   "execution_count": 23,
   "metadata": {},
   "outputs": [
    {
     "data": {
      "text/plain": [
       "12"
      ]
     },
     "execution_count": 23,
     "metadata": {},
     "output_type": "execute_result"
    }
   ],
   "source": [
    "#Variables\n",
    "\n",
    "#use the equal sign to assign variables\n",
    "#ensure to assign descriptive names to variables to make your code clear and understandable\n",
    "\n",
    "five = 5\n",
    "seven = 7\n",
    "five + seven"
   ]
  },
  {
   "cell_type": "code",
   "execution_count": 24,
   "metadata": {},
   "outputs": [
    {
     "name": "stdout",
     "output_type": "stream",
     "text": [
      "1.00 g of Phe-HCl contains 2.99e+21 Phe molecules\n"
     ]
    }
   ],
   "source": [
    "#Calculating the number of phenylalanine molecules in 1.00 g of phenlyalanine hydrochloride\n",
    "\n",
    "#assign constants to variables (your givens)\n",
    "avogadro_number = 6.022 * 10 ** 23\n",
    "phe_hcl_mw = 201.65 #MW of L-phenlyalanine hydrochloride in g/mol\n",
    "\n",
    "#calculate the number of Phe molecules\n",
    "num_phe = 1.00 / phe_hcl_mw * avogadro_number\n",
    "\n",
    "#print result with units\n",
    "print(\"1.00 g of Phe-HCl contains %.2e Phe molecules\" %num_phe)"
   ]
  },
  {
   "cell_type": "code",
   "execution_count": 25,
   "metadata": {},
   "outputs": [
    {
     "data": {
      "text/plain": [
       "2.9863625092982893e+21"
      ]
     },
     "execution_count": 25,
     "metadata": {},
     "output_type": "execute_result"
    }
   ],
   "source": [
    "#Same result with less context\n",
    "\n",
    "#we can carry out the previous calculation without having to write as much code\n",
    "#HOWEVER, this can leads to more errors and does not make what you are doing as obvious\n",
    "#make sure to write comments to explain what you're doing\n",
    "1.00 / 201.65 * 6.022 * 10 ** 23"
   ]
  },
  {
   "cell_type": "code",
   "execution_count": 26,
   "metadata": {},
   "outputs": [
    {
     "data": {
      "text/plain": [
       "120"
      ]
     },
     "execution_count": 26,
     "metadata": {},
     "output_type": "execute_result"
    }
   ],
   "source": [
    "#Intro to Modules\n",
    "\n",
    "#we can import entire modules, and we can call any function within that module\n",
    "import math\n",
    "math.factorial(5)\n"
   ]
  },
  {
   "cell_type": "code",
   "execution_count": 27,
   "metadata": {},
   "outputs": [
    {
     "data": {
      "text/plain": [
       "120"
      ]
     },
     "execution_count": 27,
     "metadata": {},
     "output_type": "execute_result"
    }
   ],
   "source": [
    "5 * 4 * 3 * 2 * 1"
   ]
  },
  {
   "cell_type": "code",
   "execution_count": 28,
   "metadata": {},
   "outputs": [
    {
     "data": {
      "text/plain": [
       "3.141592653589793"
      ]
     },
     "execution_count": 28,
     "metadata": {},
     "output_type": "execute_result"
    }
   ],
   "source": [
    "#Selective Importing\n",
    "\n",
    "#Sometimes we only want some f(x)'s from a module\n",
    "#We can specify the few functions/variables we import\n",
    "from math import pi, log #import pi variable and natural logarithm function\n",
    "pi"
   ]
  },
  {
   "cell_type": "code",
   "execution_count": 29,
   "metadata": {},
   "outputs": [
    {
     "data": {
      "text/plain": [
       "1.6094379124341003"
      ]
     },
     "execution_count": 29,
     "metadata": {},
     "output_type": "execute_result"
    }
   ],
   "source": [
    "log(5) #natural log of 5"
   ]
  },
  {
   "cell_type": "code",
   "execution_count": 30,
   "metadata": {},
   "outputs": [
    {
     "data": {
      "text/plain": [
       "0.5"
      ]
     },
     "execution_count": 30,
     "metadata": {},
     "output_type": "execute_result"
    }
   ],
   "source": [
    "#Using other bases\n",
    "log(5, 25) #log of 5 with log base of 25"
   ]
  },
  {
   "cell_type": "code",
   "execution_count": 31,
   "metadata": {},
   "outputs": [
    {
     "name": "stdout",
     "output_type": "stream",
     "text": [
      "You will need:\n",
      "0.22226600000000002 g of benzodioxaborole\n",
      "0.135 g of bromopropene\n",
      "0.0115559 g of catalyst\n"
     ]
    }
   ],
   "source": [
    "#Practice Problem 1.1\n",
    "\n",
    "#Using the given Suzuki Cross-coupling rxn, calculate the mass of each reagent/catalyst to add to run the rxn at 1.0 mmol scale\n",
    "\n",
    "#MW\n",
    "benzodioxaborole_mw = 202.06 #g/mol\n",
    "bromopropene_mw = 135.00 #g/mol\n",
    "pd_catalyst_mw = 1155.59 #g/mol\n",
    "\n",
    "#answer\n",
    "benzodioxaborole_added = benzodioxaborole_mw * 1.1 * 10 ** (-3)\n",
    "bromopropene_added = bromopropene_mw * 10 ** (-3)\n",
    "pd_catalyst_added = pd_catalyst_mw * 0.01 * 10 ** (-3)\n",
    "\n",
    "print(\"You will need:\")\n",
    "print(benzodioxaborole_added, \"g of benzodioxaborole\")\n",
    "print(bromopropene_added, \"g of bromopropene\")\n",
    "print(pd_catalyst_added, \"g of catalyst\")"
   ]
  },
  {
   "cell_type": "code",
   "execution_count": 41,
   "metadata": {},
   "outputs": [
    {
     "name": "stdout",
     "output_type": "stream",
     "text": [
      "21.759999999999998 units\n",
      "30.22222222222222 units/mg\n"
     ]
    }
   ],
   "source": [
    "#Practice Problem 1.2\n",
    "\n",
    "# L-arabinose reductase LarA catalyzes the reduction of L-arabinose to L-arabitol\n",
    "# The assay for LarA activity with L-arabinose as the substrate follows Michaelis-Menton kinetics with Km of 54mM\n",
    "# An assay with 0.72 mg of enzyme and 10mM of L-arabinose exhibited a velocity of 3.4 units\n",
    "# Calculate Vmax and kcat\n",
    "\n",
    "# Michaelis-Menton equation\n",
    "# velocity = (Vmax * S)/(Km + S)\n",
    "# Vmax is velocity at excess substrate, S is substrate concentration, Km is Michaelis Menton constant\n",
    "\n",
    "velocity = 3.4\n",
    "km = 54 #mM\n",
    "s = 10 #mM\n",
    "\n",
    "# the velocity equation can be rewritten to solve for Vmax\n",
    "# (velocity/Vmax) = S / (Km + S)\n",
    "# (1/Vmax) = S / ((velocity)(Km + S))\n",
    "# Vmax = ((velocity)(Km + S)) / S\n",
    "\n",
    "vmax = ((velocity)*(km + s)) / s\n",
    "print(vmax, \"units\")\n",
    "\n",
    "\n",
    "# turnover number eqn\n",
    "# Vmax = kcat * [E]\n",
    "# [E] is enzyme concentration\n",
    "# can rewrite the function as kcat = Vmax/[E]\n",
    "\n",
    "enzyme = 0.72 #mg\n",
    "kcat = vmax / enzyme\n",
    "print(kcat, \"units/mg\")"
   ]
  },
  {
   "cell_type": "code",
   "execution_count": null,
   "metadata": {},
   "outputs": [
    {
     "name": "stdout",
     "output_type": "stream",
     "text": [
      "The chlorophyll a concentration of the original sample is 9.6 mg/L\n"
     ]
    }
   ],
   "source": [
    "# Practice Problem 1.3\n",
    "\n",
    "# Suppose we are quantifying chlorophyll a concentration in environmental samples\n",
    "# The specific absorption coefficient epsilon was previously determined as 84.3 L/(g*cm) at 664 nm for organic extract of chlorophyll a\n",
    "# Five mL of H2O sample was extracted in ether to a final volume of 13 mL and yielded an abosrbance of 0.31 units at 664 nm with 1 cm path length\n",
    "# Use Beer-Lambert law to estimate the chlorophyll a concentration\n",
    "\n",
    "# assign known values\n",
    "\n",
    "eps = 84.3 #L/(g*cm)\n",
    "wavelength = 664 #nm\n",
    "vi = 5 #mL\n",
    "vf = 13 #mL\n",
    "path = 1 #cm\n",
    "absorbance = 0.31\n",
    "\n",
    "\n",
    "# Beer Lambert is A = epsilon * conc * path length\n",
    "# We want to know the chlorophyll a concentration, so rewrite as \n",
    "# (A)/(epsilon * path length) = concentration\n",
    "\n",
    "cf = absorbance / (eps * path)\n",
    "# concentration gives us the concentration of the diluted sample \n",
    "concInit = vf * cf / vi #this accounts for the 13 mL\n",
    "concInit *= 1000 #this accounts for the difference between eps units and volume units\n",
    "print('The chlorophyll a concentration of the original sample is %.1f mg/L' %concInit)\n"
   ]
  },
  {
   "cell_type": "code",
   "execution_count": null,
   "metadata": {},
   "outputs": [
    {
     "name": "stdout",
     "output_type": "stream",
     "text": [
      "150000000000.0 16000000.0\n"
     ]
    }
   ],
   "source": [
    "# Practice Problem 1.4\n",
    "\n",
    "# Atmospheric carbon dioxide level is estimated to have risen by over 100 ppm since the industrial revolution.\n",
    "# Aqueous carbon dioxide is in equilibrium with aqueous carbonic acid; thus an increase in the atmospheric carbon dioxide can lower the pH of water.\n",
    "# Acidification of the ocean is a concern for marine ecosystems because shells and skeletons of marine organisms in coral reefs, \n",
    "# which are made of calcium carbonate, can dissolve at lower pH levels. \n",
    "# Calculate the change in pH in pure water exposed to the atmosphere due to the increase in CO2 levels from 280 to 380 ppm. \n",
    "# Assume the dissociation from bicarbonate to carbonate is negligible.\n",
    "# Relevant equilibrium constants are given.\n",
    "\n",
    "# Henry's Law: [gas] = P / Kh\n",
    "# P is pressure, Kh is Henry's law constant for carbon dioxide (29.41 atm / M)\n",
    "\n",
    "k1 = 1.5 * 10 ** (-3) # for CO2 <-> H2CO3\n",
    "k2 = 1.6 * 10 ** (-7) # for H2CO3 <-> HCO3- + H3O+\n",
    "keq = k1 * k2 # since the system is in equilibrium\n",
    "\n",
    "m1 = 280 * 10 ** (-6) # converting 280 ppm to atm\n",
    "m2 = 380 * 10 ** (-6) # converting 380 ppm to atm\n",
    "\n"
   ]
  },
  {
   "cell_type": "code",
   "execution_count": null,
   "metadata": {},
   "outputs": [
    {
     "data": {
      "text/plain": [
       "'CellarDoor'"
      ]
     },
     "execution_count": 6,
     "metadata": {},
     "output_type": "execute_result"
    }
   ],
   "source": [
    "# String Operations\n",
    "\n",
    "# save strings to variables\n",
    "cellar = 'Cellar'\n",
    "door = 'Door'\n",
    "\n",
    "# concatenate the two strings\n",
    "cellar + door"
   ]
  },
  {
   "cell_type": "code",
   "execution_count": null,
   "metadata": {},
   "outputs": [
    {
     "data": {
      "text/plain": [
       "'Cellar Door'"
      ]
     },
     "execution_count": 7,
     "metadata": {},
     "output_type": "execute_result"
    }
   ],
   "source": [
    "# now concatenate the strings with a space between each substring\n",
    "' '.join([cellar, door])"
   ]
  },
  {
   "cell_type": "code",
   "execution_count": null,
   "metadata": {},
   "outputs": [
    {
     "name": "stdout",
     "output_type": "stream",
     "text": [
      "C e l\n"
     ]
    }
   ],
   "source": [
    "# print first, second, and third letter of 'Cellar'\n",
    "print(cellar[0], cellar[1], cellar[2])"
   ]
  },
  {
   "cell_type": "code",
   "execution_count": null,
   "metadata": {},
   "outputs": [
    {
     "name": "stdout",
     "output_type": "stream",
     "text": [
      "o r\n"
     ]
    }
   ],
   "source": [
    "# print second to last and last letter of 'Door' \n",
    "print(door[-2], door[-1])"
   ]
  },
  {
   "cell_type": "code",
   "execution_count": null,
   "metadata": {},
   "outputs": [
    {
     "data": {
      "text/plain": [
       "'oor'"
      ]
     },
     "execution_count": 10,
     "metadata": {},
     "output_type": "execute_result"
    }
   ],
   "source": [
    "# Substrings are accessible by specifying or leaving blank the start and end indices\n",
    "\n",
    "door[1:] # skips first letter which is the 0 index"
   ]
  },
  {
   "cell_type": "code",
   "execution_count": 33,
   "metadata": {},
   "outputs": [
    {
     "data": {
      "text/plain": [
       "'Cell'"
      ]
     },
     "execution_count": 33,
     "metadata": {},
     "output_type": "execute_result"
    }
   ],
   "source": [
    "cellar[:4] # include up to the first four letters"
   ]
  },
  {
   "cell_type": "code",
   "execution_count": 34,
   "metadata": {},
   "outputs": [
    {
     "data": {
      "text/plain": [
       "'oo'"
      ]
     },
     "execution_count": 34,
     "metadata": {},
     "output_type": "execute_result"
    }
   ],
   "source": [
    "door[1:3] # print out indices 1, 2 and excludes 3"
   ]
  },
  {
   "cell_type": "code",
   "execution_count": 35,
   "metadata": {},
   "outputs": [
    {
     "data": {
      "text/plain": [
       "'ella'"
      ]
     },
     "execution_count": 35,
     "metadata": {},
     "output_type": "execute_result"
    }
   ],
   "source": [
    "cellar[1:-1] # skip first and omit last letter"
   ]
  },
  {
   "cell_type": "code",
   "execution_count": 36,
   "metadata": {},
   "outputs": [
    {
     "data": {
      "text/plain": [
       "'Cla'"
      ]
     },
     "execution_count": 36,
     "metadata": {},
     "output_type": "execute_result"
    }
   ],
   "source": [
    "# The third position indicates the increment of the string\n",
    "# The default is to print every letter\n",
    "cellar[::2] # print every other letter"
   ]
  },
  {
   "cell_type": "code",
   "execution_count": 37,
   "metadata": {},
   "outputs": [
    {
     "data": {
      "text/plain": [
       "'rooD'"
      ]
     },
     "execution_count": 37,
     "metadata": {},
     "output_type": "execute_result"
    }
   ],
   "source": [
    "door[::-1]"
   ]
  },
  {
   "cell_type": "code",
   "execution_count": 38,
   "metadata": {},
   "outputs": [
    {
     "data": {
      "text/plain": [
       "876"
      ]
     },
     "execution_count": 38,
     "metadata": {},
     "output_type": "execute_result"
    }
   ],
   "source": [
    "rfp = 'agtttcagccagtgacagggtgagctgccaggtattctaacaagatgagttgttccaagaatgtgatcaaggagttcatgaggttcaaggttcgtatggaaggaacggtcaatgggcacgagtttgaaataaaaggcgaaggtgaagggaggccttacgaaggtcactgttccgtaaagettatggtaaccaagggtggacctttgccatttgcttttgatattttgtcaccacaatttcagtatggaagcaaggtatatgtcaaacaccctgccgacataccagactataaaaagctgtcatttcctgagggatttaaatgggaaagggtcatgaactttgaagacggtggcgtggttactgtatcccaagattccagtttgaaagacggetgtttcatctacgaggtcaagttcattggggtgaactttecttctgatggacctgttatgcagaggaggacacggggctgggaagccagctctgagcgtttgtatcctcgtgatggggtgctgaaaggagacatccatatggctctgaggctggaaggaggcggecattacctcgttgaattcaaaagtatttacatggtaaagaagecttcagtgcagttgccaggctactattatgttgactccaaactggatatgacgagccacaacgaagattacacagtegttgagcagtatgaaaaaacccagggacgccaccatccgttcattaagcetctgcagtgaactcggctcagtcatggattagcggtaatggccacaaaaggcacgatgatcgttttttaggaatgcagccaaaaattgaaggttatgacagtagaaatacaagcaacaggctttgcttattaaacatgtaattgaaaac'\n",
    "len(rfp)"
   ]
  },
  {
   "cell_type": "code",
   "execution_count": 39,
   "metadata": {},
   "outputs": [
    {
     "name": "stdout",
     "output_type": "stream",
     "text": [
      "First 30 nucleotides of RFP:\n",
      "AGTTTCAGCCAGTGACAGGGTGAGCTGCCA\n",
      "Last 30 nucleotides of RFP:\n",
      "GCTTTGCTTATTAAACATGTAATTGAAAAC\n"
     ]
    }
   ],
   "source": [
    "# We need the start and end of the gene to define the region to amplify by PCR\n",
    "rfp_start = rfp[:30].upper() # first 30 nucleotides, .upper() capitalizes\n",
    "rfp_end = rfp[-30:].upper() # last 30 nucleotides\n",
    "\n",
    "print('First 30 nucleotides of RFP:')\n",
    "print(rfp_start)\n",
    "print('Last 30 nucleotides of RFP:')\n",
    "print(rfp_end)"
   ]
  },
  {
   "cell_type": "code",
   "execution_count": 40,
   "metadata": {},
   "outputs": [
    {
     "data": {
      "text/plain": [
       "'CAAAAGTTAATGTACAAATTATTCGTTTCG'"
      ]
     },
     "execution_count": 40,
     "metadata": {},
     "output_type": "execute_result"
    }
   ],
   "source": [
    "# The reverse primer should be in the reverse complement so that it hybridizes to the sense (coding) strand\n",
    "# To reverse a sequence, we take the full sequence, but with the increments of negative one\n",
    "# Inside the brackets, we do not specify the start or end index, only the increment\n",
    "\n",
    "# get reverse order\n",
    "rfp_end_r = rfp_end[::-1]\n",
    "rfp_end_r"
   ]
  },
  {
   "cell_type": "code",
   "execution_count": 42,
   "metadata": {},
   "outputs": [
    {
     "data": {
      "text/plain": [
       "'T'"
      ]
     },
     "execution_count": 42,
     "metadata": {},
     "output_type": "execute_result"
    }
   ],
   "source": [
    "# We can use dictionaries to obtain the complement of the reverse sequence\n",
    "# Dictionaries are like lists but indexed by keys\n",
    "# They are specified by {key0: value0, key1: value1}\n",
    "complement_dict = {'A': 'T', 'T': 'A', 'C': 'G', 'G': 'C'}\n",
    "complement_dict['A']"
   ]
  },
  {
   "attachments": {},
   "cell_type": "markdown",
   "metadata": {},
   "source": [
    "We index the dictionary by \"A\", so it returns \"T\", the value associated with the key.\n",
    "\n",
    "We can iterate over strings using loops. The string is split by letters. By passing these letters,\n",
    "or bases, to the dictionary, we replace the nucleotide by its complement. Let us explore this syntax,\n",
    "known as a list comprehension, in more depth in a later section. "
   ]
  },
  {
   "cell_type": "code",
   "execution_count": 43,
   "metadata": {},
   "outputs": [
    {
     "data": {
      "text/plain": [
       "['G', 'T', 'T', 'T', 'T', 'C', 'A', 'A', 'T', 'T']"
      ]
     },
     "execution_count": 43,
     "metadata": {},
     "output_type": "execute_result"
    }
   ],
   "source": [
    "rfp_end_rc = [complement_dict[x] for x in rfp_end_r]\n",
    "rfp_end_rc[:10]"
   ]
  },
  {
   "attachments": {},
   "cell_type": "markdown",
   "metadata": {},
   "source": [
    "The letter-wise operation returns a list(we show only the first 10 letters). \n",
    "Let's join this list back to one string to represent the reverse complement,\n",
    "or the suffix in the 5' to 3' direction. We can do this by using the join() method."
   ]
  },
  {
   "cell_type": "code",
   "execution_count": 44,
   "metadata": {},
   "outputs": [
    {
     "data": {
      "text/plain": [
       "'GTTTTCAATTACATGTTTAATAAGCAAAGC'"
      ]
     },
     "execution_count": 44,
     "metadata": {},
     "output_type": "execute_result"
    }
   ],
   "source": [
    "rfp_end_rc = ''.join(rfp_end_rc)\n",
    "rfp_end_rc"
   ]
  },
  {
   "attachments": {},
   "cell_type": "markdown",
   "metadata": {},
   "source": [
    "We joined the list of letters with \" (an empty string with no space). With the two coding\n",
    "sequences in the correct orientation, they can be trimmed to match the melting temperature, \n",
    "below the elongation temperature of 72 deg Celsius. The trimmed sequences are as follows, \n",
    "with calculated annealing temperature at 62 degrees Celsius."
   ]
  },
  {
   "cell_type": "code",
   "execution_count": 45,
   "metadata": {},
   "outputs": [],
   "source": [
    "rfp_start = 'AGTTTCAGCCAGTGACAG'\n",
    "rfp_end_rc = 'GTTTTCAATTACATGTTTAATTAAGCAAAGC'"
   ]
  },
  {
   "attachments": {},
   "cell_type": "markdown",
   "metadata": {},
   "source": [
    "Let us concatenate the subsequences together to get a forward (sense strand) primer with:\n",
    "- spacer sequence\n",
    "- EcoRI site\n",
    "- NotI site\n",
    "- Extra base spacer\n",
    "- XbaI site\n",
    "- extra G spacer \n",
    "- The start of the RFP gene, starting with a start codon\n",
    "\n",
    "These are components for the prefix of a protein coding sequence in BioBrick construct\n"
   ]
  },
  {
   "cell_type": "code",
   "execution_count": 46,
   "metadata": {},
   "outputs": [
    {
     "data": {
      "text/plain": [
       "'GTTTCTTCGAATTCGCGGCCGCTTCTAGAGAGTTTCAGCCAGTGACAG'"
      ]
     },
     "execution_count": 46,
     "metadata": {},
     "output_type": "execute_result"
    }
   ],
   "source": [
    "spacer1 = 'GTTTCTTC'\n",
    "EcoRI = 'GAATTC' \n",
    "NotI= 'GCGGCCGC' \n",
    "spacer2 = 'T' \n",
    "XbaI = 'TCTAGA' \n",
    "spacer3 = 'G' \n",
    "\n",
    "# the forward primer is created by appending these strings in order\n",
    "\n",
    "forward = spacer1 + EcoRI + NotI + spacer2 + XbaI + spacer3 + rfp_start\n",
    "forward"
   ]
  },
  {
   "attachments": {},
   "cell_type": "markdown",
   "metadata": {},
   "source": [
    "Let us also design the reverse primer consisting of:\n",
    "- The last 30 nucleotides of the coding sequence, with stop codon\n",
    "- An additional stop codon\n",
    "- SpeI site\n",
    "- Extra base spacer\n",
    "- NotI site\n",
    "- PstI site\n",
    "- Spacer\n",
    "\n",
    "These components are for the suffix of an insert for a BioBrick construct. However,\n",
    "we need the sequence to be the reverse complement for proper amplification. Because we \n",
    "already obtained the coding sequence in reverse complement, we will omit this and append it at the end."
   ]
  },
  {
   "cell_type": "code",
   "execution_count": 47,
   "metadata": {},
   "outputs": [
    {
     "data": {
      "text/plain": [
       "'TAAACTAGTAGCGGCCGCCTGCAGAAGAAAC'"
      ]
     },
     "execution_count": 47,
     "metadata": {},
     "output_type": "execute_result"
    }
   ],
   "source": [
    "stop_codon = 'TAA'\n",
    "SpeI = 'ACTAGT' \n",
    "spacer1 = 'A'\n",
    "NotI = 'GCGGCCGC' \n",
    "PstI = 'CTGCAG' \n",
    "spacer2 = 'AAGAAAC' \n",
    "\n",
    "reverse = stop_codon + SpeI + spacer1 + NotI + PstI + spacer2\n",
    "reverse"
   ]
  },
  {
   "attachments": {},
   "cell_type": "markdown",
   "metadata": {},
   "source": [
    "Follow the same operation to obtain the reverse complement of the flanking region of the reverse primer."
   ]
  },
  {
   "cell_type": "code",
   "execution_count": 51,
   "metadata": {},
   "outputs": [
    {
     "data": {
      "text/plain": [
       "'GTTTCTTCTGCAGGCGGCCGCTACTAGTTTA'"
      ]
     },
     "execution_count": 51,
     "metadata": {},
     "output_type": "execute_result"
    }
   ],
   "source": [
    "reverse_r = reverse[::-1] # reverse the string\n",
    "reverse_rc = [complement_dict[x] for x in reverse_r] # get the complement as a list\n",
    "reverse_rc = ''.join(reverse_rc) # concatenate the letters together in one string\n",
    "reverse_rc"
   ]
  },
  {
   "attachments": {},
   "cell_type": "markdown",
   "metadata": {},
   "source": [
    "To the flanking region of the reverse primer, append the reverse complement of the end of the RFP gene."
   ]
  },
  {
   "cell_type": "code",
   "execution_count": 52,
   "metadata": {},
   "outputs": [
    {
     "data": {
      "text/plain": [
       "'GTTTCTTCTGCAGGCGGCCGCTACTAGTTTAGTTTTCAATTACATGTTTAATTAAGCAAAGC'"
      ]
     },
     "execution_count": 52,
     "metadata": {},
     "output_type": "execute_result"
    }
   ],
   "source": [
    "reverse_rc += rfp_end_rc # same as >>> reverse_rc = reverse_rc + rfp_end_rc\n",
    "reverse_rc"
   ]
  },
  {
   "attachments": {},
   "cell_type": "markdown",
   "metadata": {},
   "source": [
    "The designed primers can be synthesized and used to amplify the RFP gene for cloning into a BioBrick construct.\n",
    "\n",
    "We have used basic string operations to document how we design primers for the PCR amplification of RFP gene.\n",
    "Working with Python variables  allows us to save and organize sections of nucleotide sequences. \n",
    "We can modify and join these sequences using string methods."
   ]
  },
  {
   "attachments": {},
   "cell_type": "markdown",
   "metadata": {},
   "source": [
    "## 1.3.3 Practice Problems\n",
    "\n",
    "A. The gene sequence of the sense strand (coding side) encoding for RFP was given. Print the antisense strand (reverse complement) of the whole ORF."
   ]
  },
  {
   "cell_type": "code",
   "execution_count": 53,
   "metadata": {},
   "outputs": [
    {
     "data": {
      "text/plain": [
       "'CTGTCACTGGCTGAAACTCTCTAGAAGCGGCCGCGAATTCGAAGAAAC'"
      ]
     },
     "execution_count": 53,
     "metadata": {},
     "output_type": "execute_result"
    }
   ],
   "source": [
    "forward_r = forward[::-1] # reverse ORF\n",
    "forward_rc = [complement_dict[x] for x in forward_r] # retrieve complement as list\n",
    "forward_rc = ''.join(forward_rc) # concatenation\n",
    "forward_rc"
   ]
  },
  {
   "attachments": {},
   "cell_type": "markdown",
   "metadata": {},
   "source": [
    "B. Suppose you are designing a guide RNA to knowckout Arabidopsis thaliana transcription factor TRY. The three exons of TRY are given. \n",
    "The SpCas9 recognizes the protospacer adjacent motif(PAM), NGG and CCN (two consecutive guanine or cytosine plus one nucleotide). \n",
    "Find the index of at least one PAM in each of the exons of the gene of TRY using the find() method of strings."
   ]
  },
  {
   "cell_type": "code",
   "execution_count": 70,
   "metadata": {},
   "outputs": [
    {
     "name": "stdout",
     "output_type": "stream",
     "text": [
      "88\n",
      "18\n",
      "2\n",
      "96\n",
      "140\n",
      "151\n"
     ]
    }
   ],
   "source": [
    "exon1 = 'ACAAAGTTAGCCTTCAAAATACTTACAAATCCCAATAAAAGACTTCATCTCCATGTGTATTTGAGTGTCAACGACAAGTCTACACAAAGGGTAAGAGGTCAACAAGACCACACAACACTTCTTACTATTAGTTTTGCAAAGGCCGTTCGTTGGACATTTCCTTCTCTCTCCTCCCCTCTTCTTCTTCTTGTTCGCTCTATAAACTCTCATCTCTCACGTCTTTTTTTCCTTACATTCTCCAAACTCAAAATTTCATCACATTAATTTCTCTCTATTTTTCTTTTCTTACTTCAATAGTAATGGATAACACTGACCGTCGTCGCCGTCGTAAGCAACACAAAATCGCCCTCCATGACTCTGAAG'\n",
    "exon2 = 'AAGTGAGCAGTATCGAATGGGAGTTTATCAACATGACTGAACAAGAAGAAGATCTCATCTTTCGAATGTACAGACTTGTCGGTGATAG'\n",
    "exon3 = 'GTGGGATTTGATAGCAGGAAGAGTTCCTGGAAGACAACCAGAGGAGATAGAGAGATATTGGATAATGAGAAACAGTGAAGGCTTTGCTGATAAACGACGCCAGCTTCACTCATCTTCCCACAAACATACCAAGCCTCACCGTCCTCGCTTTTCTATCTATCCTTCCTAGTGTTTTTGTTTTTAAGCCAACGAAAAAAGAAAATAAAAAAATTATAATAGATGTATAGTAGTGGTTCTTGTTAGTTTGAAGAATTCATCATCTATTGTTTTCTTTTTGTTGTTATTTCATTTATAATTTTTATAGTATAGGTTTCATTTGGTAATCAACTTTAATCCATGCGGTTAGGTTTTTTTATTTTCTCGTCTACGACTTTTATATCCACAACTAGATTTTAATCCGCGGTATATCGCGGTATAATTTACTTTTTAAAGTTAATATATATTAAAACTTG'\n",
    "print(exon1.find('GG'))\n",
    "print(exon2.find('GG'))\n",
    "print(exon3.find('GG'))\n",
    "\n",
    "# You can go beyond the first one by telling the find function to start beyond the first occurrence\n",
    "print(exon1.find('GG', 90))\n",
    "print(exon1.find('GG', 98))\n",
    "print(exon1.find('GG', 142))"
   ]
  },
  {
   "attachments": {},
   "cell_type": "markdown",
   "metadata": {},
   "source": [
    "C. Suppose we have a list of organic compounds to subject to further analysis. We have their SMILES structures, but notice some of the tentries are complexed with smaller ions.\n",
    "We want to retain only the molecule with the longest SMILES structures. Disconnected structures are separated by periods (.) in SMILES. \n",
    "Use the string method split() to obtain a list of structures for D-glucosamine sulfate, determine the lengths of each SMILE, and print the SMILES with the ion removed."
   ]
  },
  {
   "cell_type": "code",
   "execution_count": 72,
   "metadata": {},
   "outputs": [
    {
     "data": {
      "text/plain": [
       "['C([C@H]([C@H]([C@@H]([C@H](C=O)N)O)O)O)O', 'OS(=O)(=O)O']"
      ]
     },
     "execution_count": 72,
     "metadata": {},
     "output_type": "execute_result"
    }
   ],
   "source": [
    "d_glucosamine_sulfate = 'C([C@H]([C@H]([C@@H]([C@H](C=O)N)O)O)O)O.OS(=O)(=O)O' \n",
    "\n",
    "d_glucosamine_sulfate.split(\".\")  # split the SMILES string at the period"
   ]
  },
  {
   "attachments": {},
   "cell_type": "markdown",
   "metadata": {},
   "source": [
    "D. You are extracting optimized energy values from a geometry optimization calculation using the QUICK program (11, 12).\n",
    "The line containing the total energy value is given. Extract the total energy value as a float. "
   ]
  },
  {
   "cell_type": "code",
   "execution_count": 85,
   "metadata": {},
   "outputs": [
    {
     "name": "stdout",
     "output_type": "stream",
     "text": [
      "['TOTAL', 'ENERGY', '=', '-884.004943174']\n"
     ]
    },
    {
     "data": {
      "text/plain": [
       "-884.004943174"
      ]
     },
     "execution_count": 85,
     "metadata": {},
     "output_type": "execute_result"
    }
   ],
   "source": [
    "saveline = ' TOTAL ENERGY =     -884.004943174\\n'\n",
    "savelinelist = saveline.split() # split saveline into list of all separate values\n",
    "print(savelinelist) # shows us what our list is comprised of\n",
    "float(savelinelist[3]) # turn the number (the last index) into a float; this only works because it is comprised of numeric characters ONLY\n"
   ]
  },
  {
   "attachments": {},
   "cell_type": "markdown",
   "metadata": {},
   "source": [
    "## 1.4 Functions\n",
    "Functions reduce unnecessary scripts and possibility for errors.\n",
    "Functions take arguments (inputs) and return an output."
   ]
  },
  {
   "cell_type": "code",
   "execution_count": 87,
   "metadata": {},
   "outputs": [
    {
     "data": {
      "text/plain": [
       "'this function is trivial'"
      ]
     },
     "execution_count": 87,
     "metadata": {},
     "output_type": "execute_result"
    }
   ],
   "source": [
    "def trivial_function():  # we define the function name with def, followed by the function name and ():\n",
    "    return 'this function is trivial' # internal operations of the function are identifiable via indentation\n",
    "    # the operation terminates upon reaching the first return statement\n",
    "\n",
    "trivial_function()"
   ]
  },
  {
   "cell_type": "code",
   "execution_count": 88,
   "metadata": {},
   "outputs": [
    {
     "data": {
      "text/plain": [
       "10"
      ]
     },
     "execution_count": 88,
     "metadata": {},
     "output_type": "execute_result"
    }
   ],
   "source": [
    "def square_plus_one(val): # here, the argument val is a local variable; we do not define it prior to defining the function\n",
    "    return val ** 2 + 1   # the variable is defined when passing an argument into the function\n",
    "\n",
    "square_plus_one(3)"
   ]
  },
  {
   "attachments": {},
   "cell_type": "markdown",
   "metadata": {},
   "source": [
    "Functions can have multiple arguments. Define a function that calculates electrostatic force using Coulomb's law:\n",
    "\n",
    "F = ke * ((q1 * q2)/(r ** 2))\n",
    "\n",
    "- ke is the Coulomb's constant\n",
    "- q is the charge of each particle\n",
    "- r is the radius between the particles"
   ]
  },
  {
   "cell_type": "code",
   "execution_count": 90,
   "metadata": {},
   "outputs": [
    {
     "name": "stdout",
     "output_type": "stream",
     "text": [
      "The force between particles with charges 1.0e-05 C and -2.0e-05 C at 0.1 m is -1.80e+02 N.\n"
     ]
    }
   ],
   "source": [
    "# define relevant constants\n",
    "coulomb_constant = 8.988 * 10 ** 9 # N * m^2 / C^2\n",
    "\n",
    "# define the function for Coulomb force\n",
    "def coulomb_force(q1, q2, r):\n",
    "    ''' q1 (float): charge of particle 1 in Coulombs\n",
    "    q2 (float): charge of particle 2 in Coulombs\n",
    "    r (float): radius between particles in meters''' # adding a text block to explain the f(x) can be used with triple quotes\n",
    "\n",
    "    return coulomb_constant * q1 * q2 / r ** 2\n",
    "\n",
    "\n",
    "force = coulomb_force(10**(-5), -2 * 10**(-5), 0.1)\n",
    "print('The force between particles with charges %.1e C and %.1e C at %.1f m is %.2e N.' % (10**(-5), -2 * 10**(-5), 0.1, force))"
   ]
  },
  {
   "attachments": {},
   "cell_type": "markdown",
   "metadata": {},
   "source": [
    "We can define default values for arguments so that if they are not passed, the function assumes these values. \n",
    "For instance, we can define a function which returns relative probability based on free energy difference:\n",
    "\n",
    "p1 / p2 = exp((F2 - F1) / (kB * T))\n",
    "- p1 / p2 is the probability of state 1 relative to state 2\n",
    "- F is the free energy of the state\n",
    "- kB is the Boltzmann constant\n",
    "- T is temperature"
   ]
  },
  {
   "cell_type": "code",
   "execution_count": 92,
   "metadata": {},
   "outputs": [
    {
     "data": {
      "text/plain": [
       "12.395578077607523"
      ]
     },
     "execution_count": 92,
     "metadata": {},
     "output_type": "execute_result"
    }
   ],
   "source": [
    "# We may assume a temperature of 300 K\n",
    "\n",
    "# import exponentiation function\n",
    "from math import exp\n",
    "\n",
    "# define relevant constants \n",
    "kB = 1.38 * 10 ** (-23) # J/K\n",
    "avogadro_number = 6.022 * 10 ** 23 # in mol^(-1)\n",
    "\n",
    "# convert kB from J/K to kcal/(mol * K)\n",
    "kB = kB * avogadro_number / 4184.00\n",
    "\n",
    "def relative_probability(F1, F2, T=300):\n",
    "    ''' Returns probability of state 1 relative to state 2\n",
    "    F1 (float): free energy of state 1 in kcal/mol\n",
    "    F2 (float): free energy of state 2 in J\n",
    "    T (float): temperature of system in K'''\n",
    "    return exp((F2 - F1) / (kB * T))\n",
    "\n",
    "# suppose state 2 has a relative free energy of 1.5 kcal/mol to state 1\n",
    "relative_probability(0.0, 1.5)\n"
   ]
  },
  {
   "attachments": {},
   "cell_type": "markdown",
   "metadata": {},
   "source": [
    "Suppose we want to vary the temperature as well. We can add temp as an additional argument."
   ]
  },
  {
   "cell_type": "code",
   "execution_count": 93,
   "metadata": {},
   "outputs": [
    {
     "name": "stdout",
     "output_type": "stream",
     "text": [
      "At 250 K: 20.507850.1\n",
      "At 400 K: 6.606175.1\n"
     ]
    }
   ],
   "source": [
    "temp = 250 \n",
    "print('At %d K: %f.1' %(temp, relative_probability(0.0, 1.5, temp)))\n",
    "\n",
    "temp = 400\n",
    "print('At %d K: %f.1' %(temp, relative_probability(0.0, 1.5, temp)))"
   ]
  },
  {
   "attachments": {},
   "cell_type": "markdown",
   "metadata": {},
   "source": [
    "Functions are not limited to numerical operations. Let us take the SMILES of cortisone and produce the SMILES of its enantiomer. Feel free to paste the SMILES into a software like ChemDraw to confirm the SMILES does in fact encode the structure of cortisone. We define a function that inverts all stereogenic centers. The configuration of stereogenic centers is communicated by @ and @@."
   ]
  },
  {
   "cell_type": "code",
   "execution_count": 94,
   "metadata": {},
   "outputs": [
    {
     "data": {
      "text/plain": [
       "'O=C(C=C1CC[C@]2([H])[C@@]3([H])CC[C@](O)([C@@]3(C4)C)C(CO)=O)CC[C@@]1(C)[C@]2([H])C4=O'"
      ]
     },
     "execution_count": 94,
     "metadata": {},
     "output_type": "execute_result"
    }
   ],
   "source": [
    "cortisone = 'O=C(C=C1CC[C@@]2([H])[C@]3([H])CC[C@@](O)([C@]3(C4)C)C(CO)=O)CC[C@]1(C)[C@@]2([H])C4=O'\n",
    "\n",
    "def enantiomer(smiles):\n",
    "    '''return the SMILES of the enantiomer\n",
    "    smiles (string): input structure SMILES'''\n",
    "    # first replace all @ with @@, prompting all @@ to become @@@@\n",
    "    switch1 = smiles.replace('@', '@@')\n",
    "    # because @@@@ was originally @@ we will replace it with @\n",
    "    return switch1.replace('@@@@', '@')\n",
    "\n",
    "enantiomer(cortisone)"
   ]
  },
  {
   "attachments": {},
   "cell_type": "markdown",
   "metadata": {},
   "source": [
    "We can do the operatiohn more efficiently, however it will be less obvious than if we name the function enantiomer.\n",
    "The operation replace() has no chemical context, and we assign chemical meaning ourselves by using the function titled enantiomer."
   ]
  },
  {
   "cell_type": "code",
   "execution_count": 95,
   "metadata": {},
   "outputs": [
    {
     "data": {
      "text/plain": [
       "'O=C(C=C1CC[C@]2([H])[C@@]3([H])CC[C@](O)([C@@]3(C4)C)C(CO)=O)CC[C@@]1(C)[C@]2([H])C4=O'"
      ]
     },
     "execution_count": 95,
     "metadata": {},
     "output_type": "execute_result"
    }
   ],
   "source": [
    "cortisone.replace('@', '@@').replace('@@@@', '@')"
   ]
  },
  {
   "attachments": {},
   "cell_type": "markdown",
   "metadata": {},
   "source": [
    "We can double check that both outputs are the same with =="
   ]
  },
  {
   "cell_type": "code",
   "execution_count": 96,
   "metadata": {},
   "outputs": [
    {
     "data": {
      "text/plain": [
       "True"
      ]
     },
     "execution_count": 96,
     "metadata": {},
     "output_type": "execute_result"
    }
   ],
   "source": [
    "enantiomer(cortisone) == _   # using the underscore pulls the most recent output"
   ]
  },
  {
   "attachments": {},
   "cell_type": "markdown",
   "metadata": {},
   "source": [
    "A lambda function applies a function locally in one line. It only returns one expression. \n",
    "\n",
    "It follows the syntax: lambda input: expression"
   ]
  },
  {
   "cell_type": "code",
   "execution_count": 97,
   "metadata": {},
   "outputs": [
    {
     "data": {
      "text/plain": [
       "64"
      ]
     },
     "execution_count": 97,
     "metadata": {},
     "output_type": "execute_result"
    }
   ],
   "source": [
    "cube = lambda x: x ** 3\n",
    "\n",
    "cube(4)"
   ]
  },
  {
   "attachments": {},
   "cell_type": "markdown",
   "metadata": {},
   "source": [
    "While developing, you may write out the names of all the functions you plan to have, then implement them individually. Empty functions will raise an error, preventing you from testing each function. During development, put a pass statement in functions to avoid errors."
   ]
  },
  {
   "cell_type": "code",
   "execution_count": 98,
   "metadata": {},
   "outputs": [
    {
     "data": {
      "text/plain": [
       "7.5"
      ]
     },
     "execution_count": 98,
     "metadata": {},
     "output_type": "execute_result"
    }
   ],
   "source": [
    "def identity_function(value):\n",
    "    return value\n",
    "\n",
    "def inverse(value):\n",
    "    pass\n",
    "\n",
    "identity_function(7.5)"
   ]
  },
  {
   "attachments": {},
   "cell_type": "markdown",
   "metadata": {},
   "source": [
    "Running the previous cell block highlights this idea, as we test the identity function and ignore the inverse function for the time being."
   ]
  },
  {
   "attachments": {},
   "cell_type": "markdown",
   "metadata": {},
   "source": [
    "### 1.4.1 Practice Problems\n",
    "\n",
    "A. Write a function that returns the index of a tobacco etch virus (TEV) protease recognition site in a peptide sequence. The TEV site is the sequence, ENLYFQ. While the sequence, ENLYFQS exhibits the greatest catalytic efficiency, the last position can also be G, A, M, C, or H. Run the function on the peptide sequence of recombinant sarafotoxin."
   ]
  },
  {
   "cell_type": "code",
   "execution_count": 113,
   "metadata": {},
   "outputs": [
    {
     "data": {
      "text/plain": [
       "243"
      ]
     },
     "execution_count": 113,
     "metadata": {},
     "output_type": "execute_result"
    }
   ],
   "source": [
    "recombinant_sarafotoxin = 'MKDDAAIQQTLAKMGIKSSDIQPAPVAGMKTVLTNSGVLYITDDGKHIIQGPMYDVSGTAPVNVTNKMLLKQLNALEKEMIVYKAPQEKHVITVFTDITCGYCHKLHEQMADYNALGITVRYLAFPRQGLDSDAEKEMKAIWCAKDKNKAFDDVMAGKSVAPASCDVDIADHYALGVQLGVSGTPAVVLSNGTLVPGYQPPKEMKEFLDEHQKMTSGKGSTSGSGHHHHHHGTMTSLYKKAGLENLYFQCTCKDMTDKECLYFCHQDIIW'\n",
    "\n",
    "def site_recognition(value):\n",
    "    return value.find('ENLYFQ')\n",
    "\n",
    "site_recognition(recombinant_sarafotoxin)"
   ]
  },
  {
   "attachments": {},
   "cell_type": "markdown",
   "metadata": {},
   "source": [
    "B. Write two functions: the first function returns the rxn quotient Q, the second is the Nernst equation which returns the reduction potential. \n",
    "\n",
    "Nernst equation: deltaE = deltaE.naught - ((R * T)/(n * F) * ln(Q))\n",
    "- deltaE is the change in reduction potential\n",
    "- deltaE.naught is the change in standard reduction potential\n",
    "- R is the ideal gas constant (8.314 J * mol * K)\n",
    "- T is the temperature\n",
    "- n is the number of electrons involved\n",
    "- F is the Faraday's constant (96.49 kJ * V * mol)\n",
    "- Q is the rxn quotient\n",
    "\n",
    "Calculate the reduction potential of the following reaction, in which:\n",
    "- [Ag+] = 0.04 mM \n",
    "- [Mn2+] = 0.13 mM\n"
   ]
  },
  {
   "cell_type": "code",
   "execution_count": 128,
   "metadata": {},
   "outputs": [
    {
     "name": "stdout",
     "output_type": "stream",
     "text": [
      "81250.0\n",
      "-0.5306158727128222\n"
     ]
    }
   ],
   "source": [
    "import math\n",
    "\n",
    "Ag = 0.04 * 10 ** (-3) # M\n",
    "Mn = 0.13 * 10 ** (-3) # M\n",
    "R = 8.314 / 1000 # kJ*mol*K\n",
    "n = 2 # electrons involved\n",
    "F = 96.49 # kJ*V*mol\n",
    "T = 298.15 # K @ STP\n",
    "\n",
    "\n",
    "def rxn_quotient(product, reactant):\n",
    "    return (product / (reactant ** 2))\n",
    "\n",
    "print(rxn_quotient(Mn, Ag))\n",
    "\n",
    "# take the natural log of Q for use in the Nernst eqn\n",
    "lnQ = log(rxn_quotient(Mn, Ag)) \n",
    "\n",
    "# calculate standard reduction potential change\n",
    "deltaE_naught = 0.7996 - 1.185 # V\n",
    "\n",
    "def nernst():\n",
    "    deltaE = deltaE_naught - (((R * T) / (n * F)) * lnQ)\n",
    "    return(deltaE)\n",
    "\n",
    "print(nernst()) # this output is in Volts\n",
    "\n"
   ]
  },
  {
   "attachments": {},
   "cell_type": "markdown",
   "metadata": {},
   "source": [
    "C. The source code of a function is given but is written poorly. The function and variable names are cryptic and there is no annotation. Retain the behavior of the function but update it in a readable way. Use the updated function to solve the following problem: 3-Hydroxy-1-(naphthalen-1-yl)pent-4-en-1-one (C15H14O2) was synthesized. The exact mass of the sodiated adduct was determined to be 249.0881 via high-resolution mass spectrometry (HRMS). Determine whether the measurement is consistent with calculated exact mass."
   ]
  },
  {
   "cell_type": "code",
   "execution_count": 137,
   "metadata": {},
   "outputs": [
    {
     "name": "stdout",
     "output_type": "stream",
     "text": [
      "The mass of the sodiated compound is 249.089150 daltons\n",
      "The non-sodiated mass is 226.099380 daltons\n"
     ]
    }
   ],
   "source": [
    "exact_masses = {'C': 12.000000, 'H': 1.007825, 'O': 15.994915, 'N': 14.003074, 'Na': 22.989770}\n",
    "\n",
    "'''Original Function\n",
    "def op(w, x, y, z):\n",
    "    w + x + y + z\n",
    "    x = 12.000000 * w + 1.007825 * x + 14.003074 * z + 15.994915 * y\n",
    "    return x\n",
    "\n",
    "def operation(x,y):\n",
    "    return x - (y + 22.989770) '''\n",
    "\n",
    "def mass(C, H, O, Na):\n",
    "    m = 12.000000 * C + 1.007825 * H + 15.994915 * O + 22.989770 * Na\n",
    "    return m\n",
    "\n",
    "print('The mass of the sodiated compound is %f daltons' % mass(15, 14, 2, 1)) # mass of the sodiated compound\n",
    "\n",
    "def non_sodiated_mass(m, Na):\n",
    "    return m - (Na * 22.989770)\n",
    "\n",
    "print('The non-sodiated mass is %f daltons' % non_sodiated_mass(mass(15, 14, 2, 1), 1)) # mass of the non-sodiated compound"
   ]
  },
  {
   "attachments": {},
   "cell_type": "markdown",
   "metadata": {},
   "source": [
    "D. The radioactive decay of carbon-11 to boron-11 has a half-life of 20.364 min. Radioactive decay follows first order kinetics, for which Ni is t he number of atoms at time i, k is the radioactive decay constant, and t is the time. The occupational value of carbon-11 dioxide derived air concentration (DAC) is 0.03 nCi/mL. Suppose a measurement of 0.03 nCi/mL is considered acceptable at a workplace; however, 0.17 nCi/mL was measured. Operations need to be shut down for 51 min to return to 0.03 nCi/mL; however, something is wrong in the code below to calculate this. Debug the script. "
   ]
  },
  {
   "cell_type": "code",
   "execution_count": 147,
   "metadata": {},
   "outputs": [
    {
     "name": "stdout",
     "output_type": "stream",
     "text": [
      "50.960916934536286 minutes\n"
     ]
    }
   ],
   "source": [
    "from math import log\n",
    "\n",
    "def k_from_halflife(halflife):\n",
    "    '''Calculate decay constant k from halflife in inverse time'''\n",
    "    return -log(1/2)/(halflife)\n",
    "\n",
    "def time_relative(fraction, k):\n",
    "    '''Calculate the time taken for radioactive decay with decay constant k \n",
    "    to achieve a fraction of the initial amount.'''\n",
    "    return -log(fraction)/k\n",
    "\n",
    "halflife = 20.364 # minutes\n",
    "k = k_from_halflife(halflife)\n",
    "time_shutdown = time_relative((0.03/0.17), k)\n",
    "print(time_shutdown, 'minutes')"
   ]
  },
  {
   "attachments": {},
   "cell_type": "markdown",
   "metadata": {},
   "source": [
    "### 1.5 Conditional Statements\n",
    "\n",
    "Conditional statements allow us to test a variable against a value and perform an action if the condition is met by the variable or perform another action if not. The type of variables that control this kind of statement are called Boolean."
   ]
  },
  {
   "attachments": {},
   "cell_type": "markdown",
   "metadata": {},
   "source": [
    "### 1.5.1 Boolean Variables\n",
    "\n",
    "We encode logic using conditional statements. Conditional statements run a block of code if the statement is true and skips it otherwise. The Boolean data type represents the true/false binary. There are no partial truths. A statement is either true or false, and nothing else."
   ]
  },
  {
   "cell_type": "code",
   "execution_count": 2,
   "metadata": {},
   "outputs": [
    {
     "name": "stdout",
     "output_type": "stream",
     "text": [
      "Correct\n"
     ]
    }
   ],
   "source": [
    "# Compute the following: 13 * 17 + 19 = x\n",
    "\n",
    "answer = 13 * 17 + 19\n",
    "\n",
    "if answer == 240: \n",
    "    print('Correct')\n",
    "else: \n",
    "    print('Nah')"
   ]
  },
  {
   "attachments": {},
   "cell_type": "markdown",
   "metadata": {},
   "source": [
    "Here two conditional statements are used. The *if* statement receives a Boolean. If the statement is true, then it prints \"Correct\". The statement is: the response equals 13 times 17 plus 19. \n",
    "\n",
    "Another statement used here is the *else* statement. If the prior *if* statement is false, the code block of the *else* statement is executed instead. The if-block and else-block are mutually exclusive. Mutually exclusive blocks of code can be strung together with the *elif* statement, short for \"else if\". Suppose we want to assess whether an integer is dvisible by 16 or 4."
   ]
  },
  {
   "cell_type": "code",
   "execution_count": 3,
   "metadata": {},
   "outputs": [
    {
     "name": "stdout",
     "output_type": "stream",
     "text": [
      "88 is divisible by 4.\n"
     ]
    }
   ],
   "source": [
    "# prompt user for response, then convert it to an integer\n",
    "an_integer = 88 \n",
    "\n",
    "# if the mod of the integer by 16 equals zero (if the integer is divisible by 16)\n",
    "if an_integer % 16 == 0:\n",
    "    print('%d is divisible by 16.' %an_integer)\n",
    " # else if the mod of the integer by 4 equals zero\n",
    "elif an_integer % 4 == 0: \n",
    "    print('%d is divisible by 4.' %an_integer)\n",
    "else:\n",
    "    print('%d is divisible by neither 16 or 4.' %an_integer)"
   ]
  },
  {
   "attachments": {},
   "cell_type": "markdown",
   "metadata": {},
   "source": [
    "If the integer is divisible by 16, then it is divisible by 4. Thus, it is unnecessary to run the code block specifying the integer is divisible by 4, so if the first block executes, we want to skip the rest. There is no limit to the number of *elif* statements to follow an *if* statement. \n",
    "\n",
    "Let us list some numerical comparisons. "
   ]
  },
  {
   "cell_type": "code",
   "execution_count": 5,
   "metadata": {},
   "outputs": [
    {
     "data": {
      "text/plain": [
       "False"
      ]
     },
     "execution_count": 5,
     "metadata": {},
     "output_type": "execute_result"
    }
   ],
   "source": [
    "# equals \n",
    "5 == 7"
   ]
  },
  {
   "cell_type": "code",
   "execution_count": 6,
   "metadata": {},
   "outputs": [
    {
     "data": {
      "text/plain": [
       "True"
      ]
     },
     "execution_count": 6,
     "metadata": {},
     "output_type": "execute_result"
    }
   ],
   "source": [
    "# inequals\n",
    "5 != 7"
   ]
  },
  {
   "cell_type": "code",
   "execution_count": 7,
   "metadata": {},
   "outputs": [
    {
     "data": {
      "text/plain": [
       "True"
      ]
     },
     "execution_count": 7,
     "metadata": {},
     "output_type": "execute_result"
    }
   ],
   "source": [
    "# less than\n",
    "5 < 7 "
   ]
  },
  {
   "cell_type": "code",
   "execution_count": 8,
   "metadata": {},
   "outputs": [
    {
     "data": {
      "text/plain": [
       "False"
      ]
     },
     "execution_count": 8,
     "metadata": {},
     "output_type": "execute_result"
    }
   ],
   "source": [
    "# greater than \n",
    "5 > 7"
   ]
  },
  {
   "cell_type": "code",
   "execution_count": 9,
   "metadata": {},
   "outputs": [
    {
     "data": {
      "text/plain": [
       "True"
      ]
     },
     "execution_count": 9,
     "metadata": {},
     "output_type": "execute_result"
    }
   ],
   "source": [
    "# less than or equal to\n",
    "5 <= 7"
   ]
  },
  {
   "cell_type": "code",
   "execution_count": 10,
   "metadata": {},
   "outputs": [
    {
     "data": {
      "text/plain": [
       "False"
      ]
     },
     "execution_count": 10,
     "metadata": {},
     "output_type": "execute_result"
    }
   ],
   "source": [
    "# greater than or equal to\n",
    "5 >= 7"
   ]
  },
  {
   "cell_type": "code",
   "execution_count": 11,
   "metadata": {},
   "outputs": [
    {
     "data": {
      "text/plain": [
       "False"
      ]
     },
     "execution_count": 11,
     "metadata": {},
     "output_type": "execute_result"
    }
   ],
   "source": [
    "# Strings can also be compared\n",
    "sierra = 'Sierra'\n",
    "nevada = 'Nevada'\n",
    "\n",
    "sierra == nevada"
   ]
  },
  {
   "cell_type": "code",
   "execution_count": 13,
   "metadata": {},
   "outputs": [
    {
     "data": {
      "text/plain": [
       "True"
      ]
     },
     "execution_count": 13,
     "metadata": {},
     "output_type": "execute_result"
    }
   ],
   "source": [
    "sierra != nevada"
   ]
  },
  {
   "attachments": {},
   "cell_type": "markdown",
   "metadata": {},
   "source": [
    "We can also search whether a subsequence is found within another sequence. Take the SMILES for L-alanine. Let observe whether it contains a carboxylic acid. "
   ]
  },
  {
   "cell_type": "code",
   "execution_count": 14,
   "metadata": {},
   "outputs": [
    {
     "data": {
      "text/plain": [
       "True"
      ]
     },
     "execution_count": 14,
     "metadata": {},
     "output_type": "execute_result"
    }
   ],
   "source": [
    "ala = 'N[C@@H](C)C(O)=O'\n",
    "acid = 'C(O)=O'\n",
    "\n",
    "acid in ala"
   ]
  },
  {
   "cell_type": "code",
   "execution_count": 15,
   "metadata": {},
   "outputs": [
    {
     "data": {
      "text/plain": [
       "False"
      ]
     },
     "execution_count": 15,
     "metadata": {},
     "output_type": "execute_result"
    }
   ],
   "source": [
    "acid not in ala"
   ]
  },
  {
   "attachments": {},
   "cell_type": "markdown",
   "metadata": {},
   "source": [
    "We handle multiple Booleans using logic gates. Let A and B be two statements. A AND B is true only if both A and B are true. A OR B is true if at least one of A or B is true. The NOT gate flips true and false, so NOT A is true if A is false."
   ]
  },
  {
   "cell_type": "code",
   "execution_count": 16,
   "metadata": {},
   "outputs": [
    {
     "data": {
      "text/plain": [
       "True"
      ]
     },
     "execution_count": 16,
     "metadata": {},
     "output_type": "execute_result"
    }
   ],
   "source": [
    "# AND gate\n",
    "True and True"
   ]
  },
  {
   "cell_type": "code",
   "execution_count": 17,
   "metadata": {},
   "outputs": [
    {
     "data": {
      "text/plain": [
       "False"
      ]
     },
     "execution_count": 17,
     "metadata": {},
     "output_type": "execute_result"
    }
   ],
   "source": [
    "True and False"
   ]
  },
  {
   "cell_type": "code",
   "execution_count": 18,
   "metadata": {},
   "outputs": [
    {
     "data": {
      "text/plain": [
       "False"
      ]
     },
     "execution_count": 18,
     "metadata": {},
     "output_type": "execute_result"
    }
   ],
   "source": [
    "False and False"
   ]
  },
  {
   "cell_type": "code",
   "execution_count": 19,
   "metadata": {},
   "outputs": [
    {
     "data": {
      "text/plain": [
       "True"
      ]
     },
     "execution_count": 19,
     "metadata": {},
     "output_type": "execute_result"
    }
   ],
   "source": [
    "# OR gate \n",
    "True or True"
   ]
  },
  {
   "cell_type": "code",
   "execution_count": 20,
   "metadata": {},
   "outputs": [
    {
     "data": {
      "text/plain": [
       "True"
      ]
     },
     "execution_count": 20,
     "metadata": {},
     "output_type": "execute_result"
    }
   ],
   "source": [
    "False or True"
   ]
  },
  {
   "cell_type": "code",
   "execution_count": 21,
   "metadata": {},
   "outputs": [
    {
     "data": {
      "text/plain": [
       "False"
      ]
     },
     "execution_count": 21,
     "metadata": {},
     "output_type": "execute_result"
    }
   ],
   "source": [
    "False or False"
   ]
  },
  {
   "cell_type": "code",
   "execution_count": 22,
   "metadata": {},
   "outputs": [
    {
     "data": {
      "text/plain": [
       "False"
      ]
     },
     "execution_count": 22,
     "metadata": {},
     "output_type": "execute_result"
    }
   ],
   "source": [
    "# NOT gate\n",
    "not True"
   ]
  },
  {
   "cell_type": "code",
   "execution_count": 23,
   "metadata": {},
   "outputs": [
    {
     "data": {
      "text/plain": [
       "True"
      ]
     },
     "execution_count": 23,
     "metadata": {},
     "output_type": "execute_result"
    }
   ],
   "source": [
    "not False"
   ]
  },
  {
   "attachments": {},
   "cell_type": "markdown",
   "metadata": {},
   "source": [
    "Other logic gates can be implemented as a combination of these logic gates. For instance, consider the exclusive-or gate XOR, in which A XOR B is true if exactly one of A or B is true. This can be implemented by (A OR B) AND (NOT (A AND B))."
   ]
  },
  {
   "cell_type": "code",
   "execution_count": 24,
   "metadata": {},
   "outputs": [
    {
     "name": "stdout",
     "output_type": "stream",
     "text": [
      "xor(True, True):  False\n",
      "xor(True, False):  True\n",
      "xor(False, True):  True\n",
      "xor(False, False):  False\n"
     ]
    }
   ],
   "source": [
    "def xor(A, B):\n",
    "    '''exclusive or of booleans A and B'''\n",
    "    return (A or B) and (not (A and B))\n",
    "\n",
    "print('xor(True, True): ', xor(True, True))\n",
    "print('xor(True, False): ', xor(True, False))\n",
    "print('xor(False, True): ', xor(False, True))\n",
    "print('xor(False, False): ', xor(False, False))"
   ]
  },
  {
   "attachments": {},
   "cell_type": "markdown",
   "metadata": {},
   "source": [
    "An amino acid contains an amine and a carboxylic acid. An amine is an alkylic derivative of ammonia. Let us take a simplistic definition and consider all nonaromatic organic nitrogens that are not amides as amines. Let us see whether aniline is an amino acid. "
   ]
  },
  {
   "cell_type": "code",
   "execution_count": 1,
   "metadata": {},
   "outputs": [
    {
     "name": "stdout",
     "output_type": "stream",
     "text": [
      "Aniline is not an amino acid\n"
     ]
    }
   ],
   "source": [
    "acid = 'C(O)=O'\n",
    "amide = 'NC=O' \n",
    "\n",
    "def is_amino_acid(smiles):\n",
    "    '''returns boolean for whether the provided SMILES is an amino acid'''\n",
    "    contains_acid = acid in smiles # boolean for whether acid motif is present\n",
    "    no_amide = smiles.replace(amide, '') # remove amide motif\n",
    "    contains_amine = 'N' in no_amide # boolean for whether a nonaromatic nitrogen is present after removing amides\n",
    "    return contains_acid and contains_amine\n",
    "\n",
    "aniline = 'Nc1ccccc1'\n",
    "\n",
    "if is_amino_acid(aniline):\n",
    "    print('Aniline is an amino acid')\n",
    "else:\n",
    "    print('Aniline is not an amino acid')"
   ]
  },
  {
   "cell_type": "code",
   "execution_count": 3,
   "metadata": {},
   "outputs": [
    {
     "name": "stdout",
     "output_type": "stream",
     "text": [
      "L-alanine is an amino acid\n"
     ]
    }
   ],
   "source": [
    "ala = 'CC(N)C(O)=O'\n",
    "\n",
    "if is_amino_acid(ala):\n",
    "    print('L-alanine is an amino acid')\n",
    "else:\n",
    "    print('L-alanine is not an amino acid')"
   ]
  },
  {
   "attachments": {},
   "cell_type": "markdown",
   "metadata": {},
   "source": [
    "We defined two Booleans, whether an amine was present and whether a carboxylic acid was present. We passed it through an AND gate, and determined that aniline was not an amino acid. L-alanine, on the other hand, was determined to be an amino acid. \n",
    "\n",
    "Due to conditional statements, we can implement logic in how we process the data. By specifying the cases and the blocks of code that execute for each case, we break the problems down into smaller components. Therefore, we do not have to find a solution to work on all input data but collect individual solutions together through conditional statements."
   ]
  },
  {
   "attachments": {},
   "cell_type": "markdown",
   "metadata": {},
   "source": [
    "### 1.5.3 Practice Problems\n",
    "We handled a new type of object, Booleans (True/False). Test your understanding of how to use Booleans through practice problems. \n",
    "\n",
    "A. We use the rectified linear unit (ReLU), which is a popular activation function in deep learning. Activation functions introduce nonlinearity to the model. The ReLU function is shown. Implement the ReLU function which accepts a scalar. \n",
    "\n",
    "ReLU(x) = { x if x > 0; \n",
    "            0 otherwise }"
   ]
  },
  {
   "cell_type": "code",
   "execution_count": 7,
   "metadata": {},
   "outputs": [
    {
     "data": {
      "text/plain": [
       "8"
      ]
     },
     "execution_count": 7,
     "metadata": {},
     "output_type": "execute_result"
    }
   ],
   "source": [
    "def relu(val):\n",
    "    if val > 0:\n",
    "        return val\n",
    "    else:\n",
    "        return 0\n",
    "\n",
    "relu(8)"
   ]
  },
  {
   "attachments": {},
   "cell_type": "markdown",
   "metadata": {},
   "source": [
    "B. Chemical shifts measured on proton nuclear resonance spectroscopy are correlated to functional groups. Write a function which returns possible functional groups based on a chemical shift. Some functional groups and the interval in which they typically appear are listed.\n",
    "\n",
    "- aliphatic: 0.5 - 2.0 ppm\n",
    "- allylic: 1.5 - 2.5 ppm\n",
    "- CH2-X: 2.5 - 4.5 ppm\n",
    "- ROH: 0.5 - 5.0 ppm\n",
    "- vinylic: 4.5 - 6.5 ppm\n",
    "- aromatic: 6.0 - 8.5 ppm"
   ]
  },
  {
   "cell_type": "code",
   "execution_count": 14,
   "metadata": {},
   "outputs": [
    {
     "name": "stdout",
     "output_type": "stream",
     "text": [
      "The observed chemical shift of 4.57 ppm derives from an alcohol or a vinylic group.\n"
     ]
    }
   ],
   "source": [
    "def id_functional_group(ppm):\n",
    "    if (ppm >= 0.5) and (ppm <= 1.5):\n",
    "        print(\"The observed chemical shift of %.2f ppm derives from an aliphatic group or an alcohol group.\" %ppm)\n",
    "    elif (ppm > 1.5) and (ppm <= 2.0):\n",
    "        print(\"The observed chemical shift of %.2f ppm derives from an allylic group, an aliphatic group, or an alcohol group.\" %ppm)\n",
    "    elif (ppm > 2.0) and (ppm <= 2.5):\n",
    "        print(\"The observed chemical shift of %.2f ppm derives from an allylic group or an alcohol group.\" %ppm)\n",
    "    elif (ppm > 2.5) and (ppm <= 4.5):\n",
    "        print(\"The observed chemical shift of %.2f ppm derives from a halide or an alcohol group.\" %ppm)\n",
    "    elif (ppm > 4.5) and (ppm <= 5.0):\n",
    "        print(\"The observed chemical shift of %.2f ppm derives from an alcohol or a vinylic group.\" %ppm)\n",
    "    elif (ppm > 5.0) and (ppm <= 6.0):\n",
    "        print(\"The observed chemical shift of %.2f ppm derives from a vinylic group.\" %ppm)\n",
    "    elif (ppm > 6.0) and (ppm <= 6.5):\n",
    "        print(\"The observed chemical shift of %.2f ppm derives from a vinylic group or an aromatic group.\" %ppm)\n",
    "    elif (ppm > 6.5) and (ppm <= 8.5):\n",
    "        print(\"The observed chemical shift of %.2f ppm derives from an aromatic group.\" %ppm)\n",
    "    else:\n",
    "        print(\"The observed chemical shift of %.2f ppm cannot be assigned to a potential functional group defined in the scope of this function.\" %ppm)\n",
    "\n",
    "id_functional_group(4.57)"
   ]
  },
  {
   "attachments": {},
   "cell_type": "markdown",
   "metadata": {},
   "source": [
    "Work smarter not harder."
   ]
  },
  {
   "cell_type": "code",
   "execution_count": 26,
   "metadata": {},
   "outputs": [
    {
     "name": "stdout",
     "output_type": "stream",
     "text": [
      "The observed chemical shift of 9.00 derives from one of these functional groups: ['Based on the ppm there is no assignable functional group.']\n"
     ]
    }
   ],
   "source": [
    "def potential_functional_group(ppm):\n",
    "    potential_group = [] # let's make a list that we can add functional groups to instead so we don't have to waste as much time creating print functions\n",
    "                         # additionally we don't have to create elif statements for the overlapping regions as separate entities \n",
    "    if (ppm >= 0.5) and (ppm <= 2.0):\n",
    "        potential_group.append('aliphatic')\n",
    "    if (ppm >= 1.5) and (ppm <= 2.5):\n",
    "        potential_group.append('allylic')\n",
    "    if (ppm >= 2.5) and (ppm <= 4.5):\n",
    "        potential_group.append('halide')\n",
    "    if (ppm >= 0.5) and (ppm <= 5.0):\n",
    "        potential_group.append('alcohol')\n",
    "    if (ppm >= 4.5) and (ppm <= 6.5):\n",
    "        potential_group.append('vinylic')\n",
    "    if (ppm >= 6.0) and (ppm <= 8.5):\n",
    "        potential_group.append('aromatic')\n",
    "    if (ppm < 0.5) or (ppm > 8.5):\n",
    "        potential_group.append('Based on the ppm there is no assignable functional group.')\n",
    "    return potential_group\n",
    "\n",
    "ppm = 9\n",
    "print(\"The observed chemical shift of %.2f derives from one of these functional groups:\" %ppm, potential_functional_group(ppm))"
   ]
  },
  {
   "attachments": {},
   "cell_type": "markdown",
   "metadata": {},
   "source": [
    "### 1.6 Loops\n",
    "\n",
    "You might be wonderin why you need to go through the trouble of learning Python if you already have a scientific calculator and a text editor available. Certainly, manually solving problems is a great short-term solution. Programmig is a long-term solution. Suppose you spend one hour writing a script to complete a task that takes 2 min to do on paper. You would have saved time if you repeated the operations more than 30 times, and now you can consider inputs many orders of magnitude greater in quantity.\n",
    "\n",
    "The strength of programming is to automate repetitive tasks in loops. Loops are how operations can be run at massive scale and obtain insight from large data. The two types of loops we will consider are the for-loop and the while-loop. A for-loop repeats the operation over an iterable such as a list. A while-loop repeats the operation until a certain condition is met."
   ]
  },
  {
   "attachments": {},
   "cell_type": "markdown",
   "metadata": {},
   "source": [
    "#### 1.6.1 For-Loop\n",
    "\n",
    "As an example, given a list of single point energy values in Hartrees, let us convert them to units of kcal/mol. We iterate over a list of energy values in a for-loop, and save it in a new list."
   ]
  },
  {
   "cell_type": "code",
   "execution_count": 27,
   "metadata": {},
   "outputs": [
    {
     "data": {
      "text/plain": [
       "[-278107.34065111657,\n",
       " -278128.25745077094,\n",
       " -278111.8461572177,\n",
       " -278136.95093000156,\n",
       " -278123.45355199225,\n",
       " -278124.9084477681,\n",
       " -278134.8310197654,\n",
       " -278130.56658397894,\n",
       " -278103.86927749123,\n",
       " -278132.4470780154]"
      ]
     },
     "execution_count": 27,
     "metadata": {},
     "output_type": "execute_result"
    }
   ],
   "source": [
    "# single point energy values in Hartree\n",
    "\n",
    "spes = [-443.19225788, -443.225590922, -443.199437861,\n",
    "        -443.239444863, -443.217935422, -443.220253946,\n",
    "        -443.236066571, -443.22927076, -443.186725894, -443.232267518]\n",
    "\n",
    "kcal_mol_over_hartree = 627.5094740631 # Hartree mol/kcal\n",
    "\n",
    "# initialize the list of energy in kcal/mol\n",
    "spes_in_kcal_mol = []\n",
    "\n",
    "for the_energy in spes:\n",
    "    # use the conversion factor to obtain value in kcal/mol\n",
    "    energy_in_kcal_mol = the_energy * kcal_mol_over_hartree\n",
    "    # append resulting value in new list\n",
    "    spes_in_kcal_mol.append(energy_in_kcal_mol)\n",
    "\n",
    "spes_in_kcal_mol"
   ]
  },
  {
   "attachments": {},
   "cell_type": "markdown",
   "metadata": {},
   "source": [
    "In the for-loop, a local variable is defined for each item of the iterable, in this case the_energy. The instructions to be repeated are indented. For each item in the list of the energies in Hartree, we convert the units and append them to a new list, using the append() method of lists.\n",
    "\n",
    "#### 1.6.1.1 List Comprehension\n",
    "\n",
    "List comprehension is a concise means to utilize a for-loop. We place the for-loop inside a list to return a new list. Let us perform the same operation using a list comprehension."
   ]
  },
  {
   "cell_type": "code",
   "execution_count": 28,
   "metadata": {},
   "outputs": [
    {
     "data": {
      "text/plain": [
       "[-278107.34065111657,\n",
       " -278128.25745077094,\n",
       " -278111.8461572177,\n",
       " -278136.95093000156,\n",
       " -278123.45355199225,\n",
       " -278124.9084477681,\n",
       " -278134.8310197654,\n",
       " -278130.56658397894,\n",
       " -278103.86927749123,\n",
       " -278132.4470780154]"
      ]
     },
     "execution_count": 28,
     "metadata": {},
     "output_type": "execute_result"
    }
   ],
   "source": [
    "spes_in_kcal_mol = [the_energy * kcal_mol_over_hartree for the_energy in spes]\n",
    "spes_in_kcal_mol"
   ]
  },
  {
   "attachments": {},
   "cell_type": "markdown",
   "metadata": {},
   "source": [
    "The syntax inside the list is: <the operation> *for* <local variable> *in* <iterable>. We might read it like: *Do this for each item of this list.*\n",
    "\n",
    "#### 1.6.1.2 Iterables\n",
    "\n",
    "For-loops can iterate over other iterables, such as sets, dictionaries, and tuples. Sets are nonredundant collections of objects. As an example, let us look at the sequence of *Saccharomyces cerevisiae* alcohol dehydrogenase ADH1. We convert the string into a set to observe the unique amino acids present."
   ]
  },
  {
   "cell_type": "code",
   "execution_count": 29,
   "metadata": {},
   "outputs": [
    {
     "data": {
      "text/plain": [
       "{'A',\n",
       " 'C',\n",
       " 'D',\n",
       " 'E',\n",
       " 'F',\n",
       " 'G',\n",
       " 'H',\n",
       " 'I',\n",
       " 'K',\n",
       " 'L',\n",
       " 'M',\n",
       " 'N',\n",
       " 'P',\n",
       " 'Q',\n",
       " 'R',\n",
       " 'S',\n",
       " 'T',\n",
       " 'V',\n",
       " 'W',\n",
       " 'Y'}"
      ]
     },
     "execution_count": 29,
     "metadata": {},
     "output_type": "execute_result"
    }
   ],
   "source": [
    "adh1 = 'MSIPETQKGVIFYESHGKLEYKDIPVPKPKANELLINVKYSGVCHTDLHAWHGDWPLPVKLPLVGGHEGAGVVVGMGENVKGWKIGDYAGIKWLNGSCMACEYCELGNESNCPHADLSGYTHDGSFQQYATADAVQAAHIPQGTDLAQVAPILCAGITVYKALKSANLMAGHWVAISGAAGGLGSLAVQYAKAMGYRVLGIDGGEGKEELFRSIGGEVFIDFTKEKDIVGAVLKATDGGAHGVINVSVSEAAIEASTRYVRANGTTVLVGMPAGAKCCSDVFNQVVKSISIVGSYVGNRADTREALDFFARGLVKSPIKVVGLSTLPEIYEKMEKGQIVGRYVVDTSK'\n",
    "set(adh1)"
   ]
  },
  {
   "cell_type": "code",
   "execution_count": 30,
   "metadata": {},
   "outputs": [
    {
     "data": {
      "text/plain": [
       "20"
      ]
     },
     "execution_count": 30,
     "metadata": {},
     "output_type": "execute_result"
    }
   ],
   "source": [
    "len(set(adh1))"
   ]
  },
  {
   "attachments": {},
   "cell_type": "markdown",
   "metadata": {},
   "source": [
    "ADH1 contains all 20 standard amino acids. Let us make a set from the SMILES of reduced nicotinamide adenine dinucleotide (NADH)."
   ]
  },
  {
   "cell_type": "code",
   "execution_count": 31,
   "metadata": {},
   "outputs": [
    {
     "data": {
      "text/plain": [
       "{'(',\n",
       " ')',\n",
       " '-',\n",
       " '0',\n",
       " '1',\n",
       " '2',\n",
       " '3',\n",
       " '4',\n",
       " '5',\n",
       " '=',\n",
       " '@',\n",
       " 'C',\n",
       " 'H',\n",
       " 'N',\n",
       " 'O',\n",
       " 'P',\n",
       " '[',\n",
       " ']',\n",
       " 'c',\n",
       " 'n'}"
      ]
     },
     "execution_count": 31,
     "metadata": {},
     "output_type": "execute_result"
    }
   ],
   "source": [
    "nadh = 'O=C(N)C1CC=C[N](C=1)[C@@H]20[C@@H]([C@@H](O)[C@H]2O)COP([O-])(=O)OP(=O)([O-])OC[C@H]5O[C@@H](n4cnc3c(ncnc34)N)[C@H](O)[C@@H]5O'\n",
    "set(nadh)"
   ]
  },
  {
   "attachments": {},
   "cell_type": "markdown",
   "metadata": {},
   "source": [
    "Suppose we want to know all the heavy atom elements present. We can save the item if the letter is alphabetical. We iterate through each item of the set in a for-loop. "
   ]
  },
  {
   "cell_type": "code",
   "execution_count": 32,
   "metadata": {},
   "outputs": [
    {
     "data": {
      "text/plain": [
       "['n', 'C', 'P', 'N', 'c', 'O']"
      ]
     },
     "execution_count": 32,
     "metadata": {},
     "output_type": "execute_result"
    }
   ],
   "source": [
    "# initialize list\n",
    "heavy_atoms = []\n",
    "\n",
    "# iterate through each unique letter in the SMILES of NADH \n",
    "for letter in set(nadh):\n",
    "    # if the letter is alphabetical and not a hydrogen \n",
    "    if letter.isalpha() and letter.lower() != 'h':\n",
    "        # save the letter to the list\n",
    "        heavy_atoms.append(letter)\n",
    "\n",
    "heavy_atoms"
   ]
  },
  {
   "attachments": {},
   "cell_type": "markdown",
   "metadata": {},
   "source": [
    "NADH contains carbon, phosphorus, nitrogen, and oxygen. The lowercase elements represent atoms in aromatic motifs. So, if we were to perform energy calculations on NADH, we must confirm the potential handles all these atom types.\n",
    "\n",
    "A for-loop over a dictionary iterates through its keys."
   ]
  },
  {
   "cell_type": "code",
   "execution_count": 1,
   "metadata": {},
   "outputs": [
    {
     "name": "stdout",
     "output_type": "stream",
     "text": [
      "The capital city of Kenya is Nairobi\n",
      "The capital city of Colombia is Bogotá\n",
      "The capital city of Japan is Tokyo\n",
      "The capital city of Iran is Tehran\n",
      "The capital city of Sweden is Stockholm\n"
     ]
    }
   ],
   "source": [
    "# key: country; value: capital city\n",
    "capital_cities = {'Kenya': 'Nairobi', 'Colombia': 'Bogotá', 'Japan': 'Tokyo', 'Iran': 'Tehran', 'Sweden': 'Stockholm'}\n",
    "\n",
    "for country in capital_cities:\n",
    "    print('The capital city of %s is %s' %(country, capital_cities[country]))"
   ]
  },
  {
   "attachments": {},
   "cell_type": "markdown",
   "metadata": {},
   "source": [
    "### 1.6.2 While-Loop\n",
    "The for-loop has a defined end to the loop: the number of items in the iterable. Sometimes the number of operations is not defined. We want to repeat the operation until a task is done. For this, we use the while-loop. The while-loop defines a block of code to repeat until a condition is met.\n",
    "\n",
    "Let us simulate a one-dimensional Brownian particle. We initialize the particle at 0, then observe the time taken for the particle to reach 10. "
   ]
  },
  {
   "cell_type": "code",
   "execution_count": 3,
   "metadata": {},
   "outputs": [
    {
     "name": "stdout",
     "output_type": "stream",
     "text": [
      "196 steps were taken for the particle to arrive from 0 to 10.\n"
     ]
    }
   ],
   "source": [
    "from random import sample\n",
    "\n",
    "# initialize coordinate and count\n",
    "x_coord = 0\n",
    "steps_taken = 0\n",
    "\n",
    "# while the coordinate is not 10\n",
    "while x_coord != 10:\n",
    "    # sample between -1 and 1 for the step\n",
    "    step = sample([-1, 1], 1)[0]\n",
    "    # apply step to the coordinate and save value to the variable\n",
    "    x_coord += step # same as x_coord = x_coord + step\n",
    "    # add 1 to steps_taken\n",
    "    steps_taken += 1\n",
    "\n",
    "print('%d steps were taken for the particle to arrive from 0 to 10.' %steps_taken)"
   ]
  },
  {
   "attachments": {},
   "cell_type": "markdown",
   "metadata": {},
   "source": [
    "Nesting loops should be avoided if possible because it increases the computational complexity. Let us simulate a two-dimensional Brownian particle. The particle can take steps of (1, 0), (0, 1), (-1, 0), and (0, -1) in one iteration. We track the number of steps and observe how many trajectories reach (2, 1) within 10**3 steps."
   ]
  },
  {
   "cell_type": "code",
   "execution_count": 5,
   "metadata": {},
   "outputs": [
    {
     "data": {
      "text/plain": [
       "[221,\n",
       " 91,\n",
       " 1000,\n",
       " 41,\n",
       " 1000,\n",
       " 1000,\n",
       " 1000,\n",
       " 91,\n",
       " 1000,\n",
       " 43,\n",
       " 1000,\n",
       " 3,\n",
       " 1000,\n",
       " 1000,\n",
       " 1000,\n",
       " 1000,\n",
       " 157,\n",
       " 9,\n",
       " 13,\n",
       " 1000,\n",
       " 45,\n",
       " 1000,\n",
       " 35,\n",
       " 9,\n",
       " 27,\n",
       " 1000,\n",
       " 17,\n",
       " 977,\n",
       " 43,\n",
       " 53,\n",
       " 1000,\n",
       " 9,\n",
       " 1000,\n",
       " 1000,\n",
       " 23,\n",
       " 29,\n",
       " 111,\n",
       " 1000,\n",
       " 41,\n",
       " 1000,\n",
       " 55,\n",
       " 17,\n",
       " 619,\n",
       " 1000,\n",
       " 1000,\n",
       " 185,\n",
       " 37,\n",
       " 1000,\n",
       " 1000,\n",
       " 355,\n",
       " 1000,\n",
       " 35,\n",
       " 287,\n",
       " 1000,\n",
       " 1000,\n",
       " 1000,\n",
       " 1000,\n",
       " 187,\n",
       " 863,\n",
       " 9,\n",
       " 11,\n",
       " 3,\n",
       " 1000,\n",
       " 1000,\n",
       " 1000,\n",
       " 29,\n",
       " 1000,\n",
       " 7,\n",
       " 119,\n",
       " 1000,\n",
       " 11,\n",
       " 61,\n",
       " 9,\n",
       " 29,\n",
       " 61,\n",
       " 7,\n",
       " 1000,\n",
       " 29,\n",
       " 95,\n",
       " 1000,\n",
       " 1000,\n",
       " 1000,\n",
       " 3,\n",
       " 47,\n",
       " 155,\n",
       " 163,\n",
       " 1000,\n",
       " 1000,\n",
       " 3,\n",
       " 1000,\n",
       " 5,\n",
       " 107,\n",
       " 3,\n",
       " 1000,\n",
       " 1000,\n",
       " 33,\n",
       " 167,\n",
       " 1000,\n",
       " 1000,\n",
       " 3]"
      ]
     },
     "execution_count": 5,
     "metadata": {},
     "output_type": "execute_result"
    }
   ],
   "source": [
    "# initialize parameter \n",
    "max_steps = 10 ** 3\n",
    "#initialize list for results\n",
    "steps_list = []\n",
    "# repeat x100\n",
    "for i in range(100):\n",
    "    # initialize coordinate and count\n",
    "    coord = [0, 0] # x and y coordinate\n",
    "    steps_taken = 0\n",
    "    # repeat until the coordinate is (2, 1)\n",
    "    while coord[0] != 2 or coord[1] != 1:\n",
    "        #determine whether the step is in x (0) or y (1) axis\n",
    "        axis = sample([0, 1], 1)[0]\n",
    "        # obtain step size\n",
    "        step = sample([-1, 1], 1)[0]\n",
    "        # update the coordinate\n",
    "        coord[axis] += step\n",
    "        # add one to steps taken\n",
    "        steps_taken += 1\n",
    "        # if max steps were reached, exit the while loop\n",
    "        if steps_taken >= max_steps:\n",
    "            break\n",
    "    # once while-loop is complete, append result\n",
    "    steps_list.append(steps_taken)\n",
    "steps_list"
   ]
  },
  {
   "attachments": {},
   "cell_type": "markdown",
   "metadata": {},
   "source": [
    "The while-loop was nested inside a for-loop to repeat 100 simulations of Brownian motion. Notice how the indentation is added to the while-loop because it is inside the for-loop. We have an if statement with a break. More on this later. Let us count the simulations which reached (2, 1) within 10**3 steps. We can subset lists by list comprehension. Simply return the item of the list but add a condition at the end. The condition is the item is less than the specified maximum numbers of steps allowed. Because not all items of the list are below 1000 steps, the resulting list is a subset of the original list. "
   ]
  },
  {
   "cell_type": "code",
   "execution_count": 6,
   "metadata": {},
   "outputs": [
    {
     "data": {
      "text/plain": [
       "[221,\n",
       " 91,\n",
       " 41,\n",
       " 91,\n",
       " 43,\n",
       " 3,\n",
       " 157,\n",
       " 9,\n",
       " 13,\n",
       " 45,\n",
       " 35,\n",
       " 9,\n",
       " 27,\n",
       " 17,\n",
       " 977,\n",
       " 43,\n",
       " 53,\n",
       " 9,\n",
       " 23,\n",
       " 29,\n",
       " 111,\n",
       " 41,\n",
       " 55,\n",
       " 17,\n",
       " 619,\n",
       " 185,\n",
       " 37,\n",
       " 355,\n",
       " 35,\n",
       " 287,\n",
       " 187,\n",
       " 863,\n",
       " 9,\n",
       " 11,\n",
       " 3,\n",
       " 29,\n",
       " 7,\n",
       " 119,\n",
       " 11,\n",
       " 61,\n",
       " 9,\n",
       " 29,\n",
       " 61,\n",
       " 7,\n",
       " 29,\n",
       " 95,\n",
       " 3,\n",
       " 47,\n",
       " 155,\n",
       " 163,\n",
       " 3,\n",
       " 5,\n",
       " 107,\n",
       " 3,\n",
       " 33,\n",
       " 167,\n",
       " 3]"
      ]
     },
     "execution_count": 6,
     "metadata": {},
     "output_type": "execute_result"
    }
   ],
   "source": [
    "[x for x in steps_list if x < max_steps]"
   ]
  },
  {
   "cell_type": "code",
   "execution_count": 7,
   "metadata": {},
   "outputs": [
    {
     "data": {
      "text/plain": [
       "57"
      ]
     },
     "execution_count": 7,
     "metadata": {},
     "output_type": "execute_result"
    }
   ],
   "source": [
    "len([x for x in steps_list if x < max_steps])"
   ]
  },
  {
   "cell_type": "code",
   "execution_count": 9,
   "metadata": {},
   "outputs": [
    {
     "name": "stdout",
     "output_type": "stream",
     "text": [
      "If the Brownian particle reaches (2, 1) in 1000 steps, it takes 103 steps on average.\n"
     ]
    }
   ],
   "source": [
    "def mean(alist):\n",
    "    '''return the mean of a list'''\n",
    "    return sum(alist) / len(alist)\n",
    "\n",
    "mean_steps = mean([x for x in steps_list if x < max_steps])\n",
    "\n",
    "print('If the Brownian particle reaches (2, 1) in 1000 steps, it takes %d steps on average.' %mean_steps)"
   ]
  },
  {
   "attachments": {},
   "cell_type": "markdown",
   "metadata": {},
   "source": [
    "### 1.6.3 Continue, Break, and Pass\n",
    "There are various statements we can use to skip an iteration or exit a loop - continue skips one entry. It is useful to encode exceptions to a code that would raise an error by the operation in the loop."
   ]
  },
  {
   "cell_type": "code",
   "execution_count": 10,
   "metadata": {},
   "outputs": [
    {
     "name": "stdout",
     "output_type": "stream",
     "text": [
      "1\n",
      "3\n",
      "5\n",
      "7\n",
      "9\n"
     ]
    }
   ],
   "source": [
    "# from 0 through 9,\n",
    "for i in range(10): \n",
    "    # if the value is divisible by 2\n",
    "    if i % 2 == 0:\n",
    "        continue\n",
    "    print(i)"
   ]
  },
  {
   "attachments": {},
   "cell_type": "markdown",
   "metadata": {},
   "source": [
    "Only odd integers were printed because we skipped even integers with a continue before reaching the print statement. \n",
    "\n",
    "We can also exit a loop entirely with break."
   ]
  },
  {
   "cell_type": "code",
   "execution_count": 11,
   "metadata": {},
   "outputs": [
    {
     "name": "stdout",
     "output_type": "stream",
     "text": [
      "0\n",
      "1\n",
      "2\n",
      "3\n",
      "4\n",
      "5\n",
      "6\n",
      "7\n",
      "8\n",
      "9\n",
      "10\n"
     ]
    }
   ],
   "source": [
    "i = 0\n",
    "\n",
    "while True: # an infinite loop\n",
    "    print(i)\n",
    "    if i == 10: \n",
    "        break\n",
    "    i += 1"
   ]
  },
  {
   "attachments": {},
   "cell_type": "markdown",
   "metadata": {},
   "source": [
    "The loop would have continued indefinitely without the break put in place once i equals 10. This forces the exit. Similar to functions, pass can fill in loops during development to avoid errors (as seen earlier)."
   ]
  },
  {
   "cell_type": "code",
   "execution_count": 12,
   "metadata": {},
   "outputs": [],
   "source": [
    "for i in range(5): \n",
    "    pass"
   ]
  },
  {
   "attachments": {},
   "cell_type": "markdown",
   "metadata": {},
   "source": [
    "We are ready to process large volumes of data by encoding operations for individual data points and executing them in a loop.\n",
    "\n",
    "### 1.6.4 Practice Problems\n",
    "\n",
    "A. Write a function which accepts the whole number i, and returns the ith number in the Fibonacci sequence. The Fibonacci sequence is a sequence of natural numbers in which the ith entry is the sum of the (i -2)th and (i - 1)th numbers. The first 10 numbers of the Fibonacci sequence are 1, 1, 2, 3, 5, 8, 13, 21, 34, and 55."
   ]
  },
  {
   "cell_type": "code",
   "execution_count": 24,
   "metadata": {},
   "outputs": [
    {
     "data": {
      "text/plain": [
       "144"
      ]
     },
     "execution_count": 24,
     "metadata": {},
     "output_type": "execute_result"
    }
   ],
   "source": [
    "def Fib_return(i):\n",
    "    first = 0 \n",
    "    second = 1 # here we set the base values for the initial cases \n",
    "    if i == 0: # continuing to set the initial cases up\n",
    "        return first\n",
    "    for _ in range(2, i + 1): # the loop updates the values of 'first' and 'second' by using tuple unpacking and calculating the next number by adding first and second\n",
    "        first, second = second, first + second\n",
    "    return second\n",
    "\n",
    "Fib_return(12)"
   ]
  },
  {
   "attachments": {},
   "cell_type": "markdown",
   "metadata": {},
   "source": [
    "B. Suppose we have analytically determined the diffusion coefficient at 24 deg Celsius to find the Stokes-Einstein radius of drug molecuels in water. Assume the molecules are speheres. Calculate the Stokes-Einstein radius for all compounds in a for-loop.\n",
    "\n",
    "Stokes-Einstein equation for spherical system:\n",
    "\n",
    "R(h) = (kB * T) / (6 * pi * n * D)\n",
    "- R(h) is the Stokes-Einstein radius\n",
    "- kB is the Boltzmann constant (1.38 * 10 ** (-23) J/K)\n",
    "- T is the temperature\n",
    "- n is the viscosity of the liquid\n",
    "- D is the diffusion coefficient of ion"
   ]
  },
  {
   "cell_type": "code",
   "execution_count": 42,
   "metadata": {},
   "outputs": [
    {
     "name": "stdout",
     "output_type": "stream",
     "text": [
      "The Stokes-Einstein radius of caffeine is 2.6501394847407175e-21\n",
      "The Stokes-Einstein radius of calcein is 6.276646148070121e-21\n",
      "The Stokes-Einstein radius of chloramphenicol is 3.613826570100979e-21\n",
      "The Stokes-Einstein radius of ketoprofen is 3.7267586504166345e-21\n",
      "The Stokes-Einstein radius of nitrofurantoin is 3.359331741220628e-21\n",
      "The Stokes-Einstein radius of paracetamol is 3.057853251623905e-21\n",
      "The Stokes-Einstein radius of penicillin G is 3.6694239019486856e-21\n",
      "The Stokes-Einstein radius of tetracycline is 4.1122854073562865e-21\n",
      "The Stokes-Einstein radius of trimethoprim is 4.2591527433332966e-21\n",
      "The Stokes-Einstein radius of vancomycin is 8.224570814712573e-21\n"
     ]
    }
   ],
   "source": [
    "drug_diffusion_coef = { # D in x10^(-6) cm^2/s\n",
    "    'caffeine': 9.0,\n",
    "    'calcein': 3.8, \n",
    "    'chloramphenicol': 6.6,\n",
    "    'ketoprofen': 6.4,\n",
    "    'nitrofurantoin': 7.1,\n",
    "    'paracetamol': 7.8,\n",
    "    'penicillin G': 6.5,\n",
    "    'tetracycline': 5.8,\n",
    "    'trimethoprim': 5.6,\n",
    "    'vancomycin': 2.9\n",
    "    }\n",
    "\n",
    "from math import pi\n",
    "\n",
    "T = 24 + 273.15 # C -> K\n",
    "n = ((9.121 * 10 ** (-7)) * 10000) # converting kinematic viscosity of water at 24 deg C from m^2/s to cm^2/s\n",
    "kB = 1.38 * 10 ** (-23)\n",
    "R_values = {} # creating a new dictionary so we can print the results easily\n",
    "\n",
    "for key, value in drug_diffusion_coef.items(): # run the corresponding function against all key, value sets in dictionary\n",
    "    R = (kB * T)/(6 * math.pi * n * value)  # stokes-einstein equation set to determine the \n",
    "    R_values[key] = R\n",
    "\n",
    "for key, value in R_values.items(): # print the radii\n",
    "    print(f'The Stokes-Einstein radius of {key} is {value}')\n"
   ]
  },
  {
   "attachments": {},
   "cell_type": "markdown",
   "metadata": {},
   "source": [
    "We previously identified the indices of PAM in the exons of *A. thaliana*. Write a function that takes the sequence fo the exon in lower case and capitalizes all candidates for the guide RNA to recognize. The region must satisfy all of the following conditions:\n",
    "- Located at the 5' end of the PAM (< sequence >-NGG or CCN-< sequence >)\n",
    "- Is 20 nucleotides long\n",
    "- Does not contain four or more consecutive Ts \n",
    "- The GC content is 30-80%\n"
   ]
  },
  {
   "cell_type": "code",
   "execution_count": null,
   "metadata": {},
   "outputs": [],
   "source": [
    "exon1 = 'ACAAAGTTAGCCTTCAAAATACTTACAAATCCCAATAAAAGACTTCATCTCCATGTGTATTTGAGTGTCAACGACAAGTCTACACAAAGGGTAAGAGGTCAACAAGACCACACAACACTTCTTACTATTAGTTTTGCAAAGGCCGTTCGTTGGACATTTCCTTCTCTCTCCTCCCCTCTTCTTCTTCTTGTTCGCTCTATAAACTCTCATCTCTCACGTCTTTTTTTCCTTACATTCTCCAAACTCAAAATTTCATCACATTAATTTCTCTCTATTTTTCTTTTCTTACTTCAATAGTAATGGATAACACTGACCGTCGTCGCCGTCGTAAGCAACACAAAATCGCCCTCCATGACTCTGAAG'\n",
    "exon2 = 'AAGTGAGCAGTATCGAATGGGAGTTTATCAACATGACTGAACAAGAAGAAGATCTCATCTTTCGAATGTACAGACTTGTCGGTGATAG'\n",
    "exon3 = 'GTGGGATTTGATAGCAGGAAGAGTTCCTGGAAGACAACCAGAGGAGATAGAGAGATATTGGATAATGAGAAACAGTGAAGGCTTTGCTGATAAACGACGCCAGCTTCACTCATCTTCCCACAAACATACCAAGCCTCACCGTCCTCGCTTTTCTATCTATCCTTCCTAGTGTTTTTGTTTTTAAGCCAACGAAAAAAGAAAATAAAAAAATTATAATAGATGTATAGTAGTGGTTCTTGTTAGTTTGAAGAATTCATCATCTATTGTTTTCTTTTTGTTGTTATTTCATTTATAATTTTTATAGTATAGGTTTCATTTGGTAATCAACTTTAATCCATGCGGTTAGGTTTTTTTATTTTCTCGTCTACGACTTTTATATCCACAACTAGATTTTAATCCGCGGTATATCGCGGTATAATTTACTTTTTAAAGTTAATATATATTAAAACTTG'\n",
    "\n",
    "# write the rest of the code\n"
   ]
  }
 ],
 "metadata": {
  "kernelspec": {
   "display_name": "Python 3.10.4 64-bit",
   "language": "python",
   "name": "python3"
  },
  "language_info": {
   "codemirror_mode": {
    "name": "ipython",
    "version": 3
   },
   "file_extension": ".py",
   "mimetype": "text/x-python",
   "name": "python",
   "nbconvert_exporter": "python",
   "pygments_lexer": "ipython3",
   "version": "3.10.4"
  },
  "orig_nbformat": 4,
  "vscode": {
   "interpreter": {
    "hash": "aee8b7b246df8f9039afb4144a1f6fd8d2ca17a180786b69acc140d282b71a49"
   }
  }
 },
 "nbformat": 4,
 "nbformat_minor": 2
}
