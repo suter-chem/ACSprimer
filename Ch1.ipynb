{
 "cells": [
  {
   "cell_type": "code",
   "execution_count": 22,
   "metadata": {},
   "outputs": [
    {
     "name": "stdout",
     "output_type": "stream",
     "text": [
      "12\n",
      "-2\n",
      "35\n",
      "0.7142857142857143\n",
      "78125\n",
      "5\n"
     ]
    }
   ],
   "source": [
    "#Numerical Operations Introduction\n",
    "\n",
    "#Use print() to ensure all calculations are displayed, otherwise the most recent calculation is the only result that will show\n",
    "#addition\n",
    "print(5 + 7)\n",
    "\n",
    "#subtraction \n",
    "print(5 - 7)\n",
    "\n",
    "#multiplication \n",
    "print(5 * 7)\n",
    "\n",
    "#division \n",
    "print(5 / 7)\n",
    "\n",
    "#exponentiation \n",
    "print(5 ** 7)\n",
    "\n",
    "#modulus\n",
    "print(5 & 7)"
   ]
  },
  {
   "cell_type": "code",
   "execution_count": 23,
   "metadata": {},
   "outputs": [
    {
     "data": {
      "text/plain": [
       "12"
      ]
     },
     "execution_count": 23,
     "metadata": {},
     "output_type": "execute_result"
    }
   ],
   "source": [
    "#Variables\n",
    "\n",
    "#use the equal sign to assign variables\n",
    "#ensure to assign descriptive names to variables to make your code clear and understandable\n",
    "\n",
    "five = 5\n",
    "seven = 7\n",
    "five + seven"
   ]
  },
  {
   "cell_type": "code",
   "execution_count": 24,
   "metadata": {},
   "outputs": [
    {
     "name": "stdout",
     "output_type": "stream",
     "text": [
      "1.00 g of Phe-HCl contains 2.99e+21 Phe molecules\n"
     ]
    }
   ],
   "source": [
    "#Calculating the number of phenylalanine molecules in 1.00 g of phenlyalanine hydrochloride\n",
    "\n",
    "#assign constants to variables (your givens)\n",
    "avogadro_number = 6.022 * 10 ** 23\n",
    "phe_hcl_mw = 201.65 #MW of L-phenlyalanine hydrochloride in g/mol\n",
    "\n",
    "#calculate the number of Phe molecules\n",
    "num_phe = 1.00 / phe_hcl_mw * avogadro_number\n",
    "\n",
    "#print result with units\n",
    "print(\"1.00 g of Phe-HCl contains %.2e Phe molecules\" %num_phe)"
   ]
  },
  {
   "cell_type": "code",
   "execution_count": 25,
   "metadata": {},
   "outputs": [
    {
     "data": {
      "text/plain": [
       "2.9863625092982893e+21"
      ]
     },
     "execution_count": 25,
     "metadata": {},
     "output_type": "execute_result"
    }
   ],
   "source": [
    "#Same result with less context\n",
    "\n",
    "#we can carry out the previous calculation without having to write as much code\n",
    "#HOWEVER, this can leads to more errors and does not make what you are doing as obvious\n",
    "#make sure to write comments to explain what you're doing\n",
    "1.00 / 201.65 * 6.022 * 10 ** 23"
   ]
  },
  {
   "cell_type": "code",
   "execution_count": 26,
   "metadata": {},
   "outputs": [
    {
     "data": {
      "text/plain": [
       "120"
      ]
     },
     "execution_count": 26,
     "metadata": {},
     "output_type": "execute_result"
    }
   ],
   "source": [
    "#Intro to Modules\n",
    "\n",
    "#we can import entire modules, and we can call any function within that module\n",
    "import math\n",
    "math.factorial(5)\n"
   ]
  },
  {
   "cell_type": "code",
   "execution_count": 27,
   "metadata": {},
   "outputs": [
    {
     "data": {
      "text/plain": [
       "120"
      ]
     },
     "execution_count": 27,
     "metadata": {},
     "output_type": "execute_result"
    }
   ],
   "source": [
    "5 * 4 * 3 * 2 * 1"
   ]
  },
  {
   "cell_type": "code",
   "execution_count": 28,
   "metadata": {},
   "outputs": [
    {
     "data": {
      "text/plain": [
       "3.141592653589793"
      ]
     },
     "execution_count": 28,
     "metadata": {},
     "output_type": "execute_result"
    }
   ],
   "source": [
    "#Selective Importing\n",
    "\n",
    "#Sometimes we only want some f(x)'s from a module\n",
    "#We can specify the few functions/variables we import\n",
    "from math import pi, log #import pi variable and natural logarithm function\n",
    "pi"
   ]
  },
  {
   "cell_type": "code",
   "execution_count": 29,
   "metadata": {},
   "outputs": [
    {
     "data": {
      "text/plain": [
       "1.6094379124341003"
      ]
     },
     "execution_count": 29,
     "metadata": {},
     "output_type": "execute_result"
    }
   ],
   "source": [
    "log(5) #natural log of 5"
   ]
  },
  {
   "cell_type": "code",
   "execution_count": 30,
   "metadata": {},
   "outputs": [
    {
     "data": {
      "text/plain": [
       "0.5"
      ]
     },
     "execution_count": 30,
     "metadata": {},
     "output_type": "execute_result"
    }
   ],
   "source": [
    "#Using other bases\n",
    "log(5, 25) #log of 5 with log base of 25"
   ]
  },
  {
   "cell_type": "code",
   "execution_count": 31,
   "metadata": {},
   "outputs": [
    {
     "name": "stdout",
     "output_type": "stream",
     "text": [
      "You will need:\n",
      "0.22226600000000002 g of benzodioxaborole\n",
      "0.135 g of bromopropene\n",
      "0.0115559 g of catalyst\n"
     ]
    }
   ],
   "source": [
    "#Practice Problem 1.1\n",
    "\n",
    "#Using the given Suzuki Cross-coupling rxn, calculate the mass of each reagent/catalyst to add to run the rxn at 1.0 mmol scale\n",
    "\n",
    "#MW\n",
    "benzodioxaborole_mw = 202.06 #g/mol\n",
    "bromopropene_mw = 135.00 #g/mol\n",
    "pd_catalyst_mw = 1155.59 #g/mol\n",
    "\n",
    "#answer\n",
    "benzodioxaborole_added = benzodioxaborole_mw * 1.1 * 10 ** (-3)\n",
    "bromopropene_added = bromopropene_mw * 10 ** (-3)\n",
    "pd_catalyst_added = pd_catalyst_mw * 0.01 * 10 ** (-3)\n",
    "\n",
    "print(\"You will need:\")\n",
    "print(benzodioxaborole_added, \"g of benzodioxaborole\")\n",
    "print(bromopropene_added, \"g of bromopropene\")\n",
    "print(pd_catalyst_added, \"g of catalyst\")"
   ]
  },
  {
   "cell_type": "code",
   "execution_count": 41,
   "metadata": {},
   "outputs": [
    {
     "name": "stdout",
     "output_type": "stream",
     "text": [
      "21.759999999999998 units\n",
      "30.22222222222222 units/mg\n"
     ]
    }
   ],
   "source": [
    "#Practice Problem 1.2\n",
    "\n",
    "# L-arabinose reductase LarA catalyzes the reduction of L-arabinose to L-arabitol\n",
    "# The assay for LarA activity with L-arabinose as the substrate follows Michaelis-Menton kinetics with Km of 54mM\n",
    "# An assay with 0.72 mg of enzyme and 10mM of L-arabinose exhibited a velocity of 3.4 units\n",
    "# Calculate Vmax and kcat\n",
    "\n",
    "# Michaelis-Menton equation\n",
    "# velocity = (Vmax * S)/(Km + S)\n",
    "# Vmax is velocity at excess substrate, S is substrate concentration, Km is Michaelis Menton constant\n",
    "\n",
    "velocity = 3.4\n",
    "km = 54 #mM\n",
    "s = 10 #mM\n",
    "\n",
    "# the velocity equation can be rewritten to solve for Vmax\n",
    "# (velocity/Vmax) = S / (Km + S)\n",
    "# (1/Vmax) = S / ((velocity)(Km + S))\n",
    "# Vmax = ((velocity)(Km + S)) / S\n",
    "\n",
    "vmax = ((velocity)*(km + s)) / s\n",
    "print(vmax, \"units\")\n",
    "\n",
    "\n",
    "# turnover number eqn\n",
    "# Vmax = kcat * [E]\n",
    "# [E] is enzyme concentration\n",
    "# can rewrite the function as kcat = Vmax/[E]\n",
    "\n",
    "enzyme = 0.72 #mg\n",
    "kcat = vmax / enzyme\n",
    "print(kcat, \"units/mg\")"
   ]
  },
  {
   "cell_type": "code",
   "execution_count": null,
   "metadata": {},
   "outputs": [
    {
     "name": "stdout",
     "output_type": "stream",
     "text": [
      "The chlorophyll a concentration of the original sample is 9.6 mg/L\n"
     ]
    }
   ],
   "source": [
    "# Practice Problem 1.3\n",
    "\n",
    "# Suppose we are quantifying chlorophyll a concentration in environmental samples\n",
    "# The specific absorption coefficient epsilon was previously determined as 84.3 L/(g*cm) at 664 nm for organic extract of chlorophyll a\n",
    "# Five mL of H2O sample was extracted in ether to a final volume of 13 mL and yielded an abosrbance of 0.31 units at 664 nm with 1 cm path length\n",
    "# Use Beer-Lambert law to estimate the chlorophyll a concentration\n",
    "\n",
    "# assign known values\n",
    "\n",
    "eps = 84.3 #L/(g*cm)\n",
    "wavelength = 664 #nm\n",
    "vi = 5 #mL\n",
    "vf = 13 #mL\n",
    "path = 1 #cm\n",
    "absorbance = 0.31\n",
    "\n",
    "\n",
    "# Beer Lambert is A = epsilon * conc * path length\n",
    "# We want to know the chlorophyll a concentration, so rewrite as \n",
    "# (A)/(epsilon * path length) = concentration\n",
    "\n",
    "cf = absorbance / (eps * path)\n",
    "# concentration gives us the concentration of the diluted sample \n",
    "concInit = vf * cf / vi #this accounts for the 13 mL\n",
    "concInit *= 1000 #this accounts for the difference between eps units and volume units\n",
    "print('The chlorophyll a concentration of the original sample is %.1f mg/L' %concInit)\n"
   ]
  },
  {
   "cell_type": "code",
   "execution_count": null,
   "metadata": {},
   "outputs": [
    {
     "name": "stdout",
     "output_type": "stream",
     "text": [
      "150000000000.0 16000000.0\n"
     ]
    }
   ],
   "source": [
    "# Practice Problem 1.4\n",
    "\n",
    "# Atmospheric carbon dioxide level is estimated to have risen by over 100 ppm since the industrial revolution.\n",
    "# Aqueous carbon dioxide is in equilibrium with aqueous carbonic acid; thus an increase in the atmospheric carbon dioxide can lower the pH of water.\n",
    "# Acidification of the ocean is a concern for marine ecosystems because shells and skeletons of marine organisms in coral reefs, \n",
    "# which are made of calcium carbonate, can dissolve at lower pH levels. \n",
    "# Calculate the change in pH in pure water exposed to the atmosphere due to the increase in CO2 levels from 280 to 380 ppm. \n",
    "# Assume the dissociation from bicarbonate to carbonate is negligible.\n",
    "# Relevant equilibrium constants are given.\n",
    "\n",
    "# Henry's Law: [gas] = P / Kh\n",
    "# P is pressure, Kh is Henry's law constant for carbon dioxide (29.41 atm / M)\n",
    "\n",
    "k1 = 1.5 * 10 ** (-3) # for CO2 <-> H2CO3\n",
    "k2 = 1.6 * 10 ** (-7) # for H2CO3 <-> HCO3- + H3O+\n",
    "keq = k1 * k2 # since the system is in equilibrium\n",
    "\n",
    "m1 = 280 * 10 ** (-6) # converting 280 ppm to atm\n",
    "m2 = 380 * 10 ** (-6) # converting 380 ppm to atm\n",
    "\n"
   ]
  },
  {
   "cell_type": "code",
   "execution_count": null,
   "metadata": {},
   "outputs": [
    {
     "data": {
      "text/plain": [
       "'CellarDoor'"
      ]
     },
     "execution_count": 6,
     "metadata": {},
     "output_type": "execute_result"
    }
   ],
   "source": [
    "# String Operations\n",
    "\n",
    "# save strings to variables\n",
    "cellar = 'Cellar'\n",
    "door = 'Door'\n",
    "\n",
    "# concatenate the two strings\n",
    "cellar + door"
   ]
  },
  {
   "cell_type": "code",
   "execution_count": null,
   "metadata": {},
   "outputs": [
    {
     "data": {
      "text/plain": [
       "'Cellar Door'"
      ]
     },
     "execution_count": 7,
     "metadata": {},
     "output_type": "execute_result"
    }
   ],
   "source": [
    "# now concatenate the strings with a space between each substring\n",
    "' '.join([cellar, door])"
   ]
  },
  {
   "cell_type": "code",
   "execution_count": null,
   "metadata": {},
   "outputs": [
    {
     "name": "stdout",
     "output_type": "stream",
     "text": [
      "C e l\n"
     ]
    }
   ],
   "source": [
    "# print first, second, and third letter of 'Cellar'\n",
    "print(cellar[0], cellar[1], cellar[2])"
   ]
  },
  {
   "cell_type": "code",
   "execution_count": null,
   "metadata": {},
   "outputs": [
    {
     "name": "stdout",
     "output_type": "stream",
     "text": [
      "o r\n"
     ]
    }
   ],
   "source": [
    "# print second to last and last letter of 'Door' \n",
    "print(door[-2], door[-1])"
   ]
  },
  {
   "cell_type": "code",
   "execution_count": null,
   "metadata": {},
   "outputs": [
    {
     "data": {
      "text/plain": [
       "'oor'"
      ]
     },
     "execution_count": 10,
     "metadata": {},
     "output_type": "execute_result"
    }
   ],
   "source": [
    "# Substrings are accessible by specifying or leaving blank the start and end indices\n",
    "\n",
    "door[1:] # skips first letter which is the 0 index"
   ]
  },
  {
   "cell_type": "code",
   "execution_count": 33,
   "metadata": {},
   "outputs": [
    {
     "data": {
      "text/plain": [
       "'Cell'"
      ]
     },
     "execution_count": 33,
     "metadata": {},
     "output_type": "execute_result"
    }
   ],
   "source": [
    "cellar[:4] # include up to the first four letters"
   ]
  },
  {
   "cell_type": "code",
   "execution_count": 34,
   "metadata": {},
   "outputs": [
    {
     "data": {
      "text/plain": [
       "'oo'"
      ]
     },
     "execution_count": 34,
     "metadata": {},
     "output_type": "execute_result"
    }
   ],
   "source": [
    "door[1:3] # print out indices 1, 2 and excludes 3"
   ]
  },
  {
   "cell_type": "code",
   "execution_count": 35,
   "metadata": {},
   "outputs": [
    {
     "data": {
      "text/plain": [
       "'ella'"
      ]
     },
     "execution_count": 35,
     "metadata": {},
     "output_type": "execute_result"
    }
   ],
   "source": [
    "cellar[1:-1] # skip first and omit last letter"
   ]
  },
  {
   "cell_type": "code",
   "execution_count": 36,
   "metadata": {},
   "outputs": [
    {
     "data": {
      "text/plain": [
       "'Cla'"
      ]
     },
     "execution_count": 36,
     "metadata": {},
     "output_type": "execute_result"
    }
   ],
   "source": [
    "# The third position indicates the increment of the string\n",
    "# The default is to print every letter\n",
    "cellar[::2] # print every other letter"
   ]
  },
  {
   "cell_type": "code",
   "execution_count": 37,
   "metadata": {},
   "outputs": [
    {
     "data": {
      "text/plain": [
       "'rooD'"
      ]
     },
     "execution_count": 37,
     "metadata": {},
     "output_type": "execute_result"
    }
   ],
   "source": [
    "door[::-1]"
   ]
  },
  {
   "cell_type": "code",
   "execution_count": 38,
   "metadata": {},
   "outputs": [
    {
     "data": {
      "text/plain": [
       "876"
      ]
     },
     "execution_count": 38,
     "metadata": {},
     "output_type": "execute_result"
    }
   ],
   "source": [
    "rfp = 'agtttcagccagtgacagggtgagctgccaggtattctaacaagatgagttgttccaagaatgtgatcaaggagttcatgaggttcaaggttcgtatggaaggaacggtcaatgggcacgagtttgaaataaaaggcgaaggtgaagggaggccttacgaaggtcactgttccgtaaagettatggtaaccaagggtggacctttgccatttgcttttgatattttgtcaccacaatttcagtatggaagcaaggtatatgtcaaacaccctgccgacataccagactataaaaagctgtcatttcctgagggatttaaatgggaaagggtcatgaactttgaagacggtggcgtggttactgtatcccaagattccagtttgaaagacggetgtttcatctacgaggtcaagttcattggggtgaactttecttctgatggacctgttatgcagaggaggacacggggctgggaagccagctctgagcgtttgtatcctcgtgatggggtgctgaaaggagacatccatatggctctgaggctggaaggaggcggecattacctcgttgaattcaaaagtatttacatggtaaagaagecttcagtgcagttgccaggctactattatgttgactccaaactggatatgacgagccacaacgaagattacacagtegttgagcagtatgaaaaaacccagggacgccaccatccgttcattaagcetctgcagtgaactcggctcagtcatggattagcggtaatggccacaaaaggcacgatgatcgttttttaggaatgcagccaaaaattgaaggttatgacagtagaaatacaagcaacaggctttgcttattaaacatgtaattgaaaac'\n",
    "len(rfp)"
   ]
  },
  {
   "cell_type": "code",
   "execution_count": 39,
   "metadata": {},
   "outputs": [
    {
     "name": "stdout",
     "output_type": "stream",
     "text": [
      "First 30 nucleotides of RFP:\n",
      "AGTTTCAGCCAGTGACAGGGTGAGCTGCCA\n",
      "Last 30 nucleotides of RFP:\n",
      "GCTTTGCTTATTAAACATGTAATTGAAAAC\n"
     ]
    }
   ],
   "source": [
    "# We need the start and end of the gene to define the region to amplify by PCR\n",
    "rfp_start = rfp[:30].upper() # first 30 nucleotides, .upper() capitalizes\n",
    "rfp_end = rfp[-30:].upper() # last 30 nucleotides\n",
    "\n",
    "print('First 30 nucleotides of RFP:')\n",
    "print(rfp_start)\n",
    "print('Last 30 nucleotides of RFP:')\n",
    "print(rfp_end)"
   ]
  },
  {
   "cell_type": "code",
   "execution_count": 40,
   "metadata": {},
   "outputs": [
    {
     "data": {
      "text/plain": [
       "'CAAAAGTTAATGTACAAATTATTCGTTTCG'"
      ]
     },
     "execution_count": 40,
     "metadata": {},
     "output_type": "execute_result"
    }
   ],
   "source": [
    "# The reverse primer should be in the reverse complement so that it hybridizes to the sense (coding) strand\n",
    "# To reverse a sequence, we take the full sequence, but with the increments of negative one\n",
    "# Inside the brackets, we do not specify the start or end index, only the increment\n",
    "\n",
    "# get reverse order\n",
    "rfp_end_r = rfp_end[::-1]\n",
    "rfp_end_r"
   ]
  },
  {
   "cell_type": "code",
   "execution_count": 42,
   "metadata": {},
   "outputs": [
    {
     "data": {
      "text/plain": [
       "'T'"
      ]
     },
     "execution_count": 42,
     "metadata": {},
     "output_type": "execute_result"
    }
   ],
   "source": [
    "# We can use dictionaries to obtain the complement of the reverse sequence\n",
    "# Dictionaries are like lists but indexed by keys\n",
    "# They are specified by {key0: value0, key1: value1}\n",
    "complement_dict = {'A': 'T', 'T': 'A', 'C': 'G', 'G': 'C'}\n",
    "complement_dict['A']"
   ]
  },
  {
   "attachments": {},
   "cell_type": "markdown",
   "metadata": {},
   "source": [
    "We index the dictionary by \"A\", so it returns \"T\", the value associated with the key.\n",
    "\n",
    "We can iterate over strings using loops. The string is split by letters. By passing these letters,\n",
    "or bases, to the dictionary, we replace the nucleotide by its complement. Let us explore this syntax,\n",
    "known as a list comprehension, in more depth in a later section. "
   ]
  },
  {
   "cell_type": "code",
   "execution_count": 43,
   "metadata": {},
   "outputs": [
    {
     "data": {
      "text/plain": [
       "['G', 'T', 'T', 'T', 'T', 'C', 'A', 'A', 'T', 'T']"
      ]
     },
     "execution_count": 43,
     "metadata": {},
     "output_type": "execute_result"
    }
   ],
   "source": [
    "rfp_end_rc = [complement_dict[x] for x in rfp_end_r]\n",
    "rfp_end_rc[:10]"
   ]
  },
  {
   "attachments": {},
   "cell_type": "markdown",
   "metadata": {},
   "source": [
    "The letter-wise operation returns a list(we show only the first 10 letters). \n",
    "Let's join this list back to one string to represent the reverse complement,\n",
    "or the suffix in the 5' to 3' direction. We can do this by using the join() method."
   ]
  },
  {
   "cell_type": "code",
   "execution_count": 44,
   "metadata": {},
   "outputs": [
    {
     "data": {
      "text/plain": [
       "'GTTTTCAATTACATGTTTAATAAGCAAAGC'"
      ]
     },
     "execution_count": 44,
     "metadata": {},
     "output_type": "execute_result"
    }
   ],
   "source": [
    "rfp_end_rc = ''.join(rfp_end_rc)\n",
    "rfp_end_rc"
   ]
  },
  {
   "attachments": {},
   "cell_type": "markdown",
   "metadata": {},
   "source": [
    "We joined the list of letters with \" (an empty string with no space). With the two coding\n",
    "sequences in the correct orientation, they can be trimmed to match the melting temperature, \n",
    "below the elongation temperature of 72 deg Celsius. The trimmed sequences are as follows, \n",
    "with calculated annealing temperature at 62 degrees Celsius."
   ]
  },
  {
   "cell_type": "code",
   "execution_count": 45,
   "metadata": {},
   "outputs": [],
   "source": [
    "rfp_start = 'AGTTTCAGCCAGTGACAG'\n",
    "rfp_end_rc = 'GTTTTCAATTACATGTTTAATTAAGCAAAGC'"
   ]
  },
  {
   "attachments": {},
   "cell_type": "markdown",
   "metadata": {},
   "source": [
    "Let us concatenate the subsequences together to get a forward (sense strand) primer with:\n",
    "- spacer sequence\n",
    "- EcoRI site\n",
    "- NotI site\n",
    "- Extra base spacer\n",
    "- XbaI site\n",
    "- extra G spacer \n",
    "- The start of the RFP gene, starting with a start codon\n",
    "\n",
    "These are components for the prefix of a protein coding sequence in BioBrick construct\n"
   ]
  },
  {
   "cell_type": "code",
   "execution_count": 46,
   "metadata": {},
   "outputs": [
    {
     "data": {
      "text/plain": [
       "'GTTTCTTCGAATTCGCGGCCGCTTCTAGAGAGTTTCAGCCAGTGACAG'"
      ]
     },
     "execution_count": 46,
     "metadata": {},
     "output_type": "execute_result"
    }
   ],
   "source": [
    "spacer1 = 'GTTTCTTC'\n",
    "EcoRI = 'GAATTC' \n",
    "NotI= 'GCGGCCGC' \n",
    "spacer2 = 'T' \n",
    "XbaI = 'TCTAGA' \n",
    "spacer3 = 'G' \n",
    "\n",
    "# the forward primer is created by appending these strings in order\n",
    "\n",
    "forward = spacer1 + EcoRI + NotI + spacer2 + XbaI + spacer3 + rfp_start\n",
    "forward"
   ]
  },
  {
   "attachments": {},
   "cell_type": "markdown",
   "metadata": {},
   "source": [
    "Let us also design the reverse primer consisting of:\n",
    "- The last 30 nucleotides of the coding sequence, with stop codon\n",
    "- An additional stop codon\n",
    "- SpeI site\n",
    "- Extra base spacer\n",
    "- NotI site\n",
    "- PstI site\n",
    "- Spacer\n",
    "\n",
    "These components are for the suffix of an insert for a BioBrick construct. However,\n",
    "we need the sequence to be the reverse complement for proper amplification. Because we \n",
    "already obtained the coding sequence in reverse complement, we will omit this and append it at the end."
   ]
  },
  {
   "cell_type": "code",
   "execution_count": 47,
   "metadata": {},
   "outputs": [
    {
     "data": {
      "text/plain": [
       "'TAAACTAGTAGCGGCCGCCTGCAGAAGAAAC'"
      ]
     },
     "execution_count": 47,
     "metadata": {},
     "output_type": "execute_result"
    }
   ],
   "source": [
    "stop_codon = 'TAA'\n",
    "SpeI = 'ACTAGT' \n",
    "spacer1 = 'A'\n",
    "NotI = 'GCGGCCGC' \n",
    "PstI = 'CTGCAG' \n",
    "spacer2 = 'AAGAAAC' \n",
    "\n",
    "reverse = stop_codon + SpeI + spacer1 + NotI + PstI + spacer2\n",
    "reverse"
   ]
  },
  {
   "attachments": {},
   "cell_type": "markdown",
   "metadata": {},
   "source": [
    "Follow the same operation to obtain the reverse complement of the flanking region of the reverse primer."
   ]
  },
  {
   "cell_type": "code",
   "execution_count": 51,
   "metadata": {},
   "outputs": [
    {
     "data": {
      "text/plain": [
       "'GTTTCTTCTGCAGGCGGCCGCTACTAGTTTA'"
      ]
     },
     "execution_count": 51,
     "metadata": {},
     "output_type": "execute_result"
    }
   ],
   "source": [
    "reverse_r = reverse[::-1] # reverse the string\n",
    "reverse_rc = [complement_dict[x] for x in reverse_r] # get the complement as a list\n",
    "reverse_rc = ''.join(reverse_rc) # concatenate the letters together in one string\n",
    "reverse_rc"
   ]
  },
  {
   "attachments": {},
   "cell_type": "markdown",
   "metadata": {},
   "source": [
    "To the flanking region of the reverse primer, append the reverse complement of the end of the RFP gene."
   ]
  },
  {
   "cell_type": "code",
   "execution_count": 52,
   "metadata": {},
   "outputs": [
    {
     "data": {
      "text/plain": [
       "'GTTTCTTCTGCAGGCGGCCGCTACTAGTTTAGTTTTCAATTACATGTTTAATTAAGCAAAGC'"
      ]
     },
     "execution_count": 52,
     "metadata": {},
     "output_type": "execute_result"
    }
   ],
   "source": [
    "reverse_rc += rfp_end_rc # same as >>> reverse_rc = reverse_rc + rfp_end_rc\n",
    "reverse_rc"
   ]
  },
  {
   "attachments": {},
   "cell_type": "markdown",
   "metadata": {},
   "source": [
    "The designed primers can be synthesized and used to amplify the RFP gene for cloning into a BioBrick construct.\n",
    "\n",
    "We have used basic string operations to document how we design primers for the PCR amplification of RFP gene.\n",
    "Working with Python variables  allows us to save and organize sections of nucleotide sequences. \n",
    "We can modify and join these sequences using string methods."
   ]
  },
  {
   "attachments": {},
   "cell_type": "markdown",
   "metadata": {},
   "source": [
    "## 1.3.3 Practice Problems\n",
    "\n",
    "A. The gene sequence of the sense strand (coding side) encoding for RFP was given. Print the antisense strand (reverse complement) of the whole ORF."
   ]
  },
  {
   "cell_type": "code",
   "execution_count": 53,
   "metadata": {},
   "outputs": [
    {
     "data": {
      "text/plain": [
       "'CTGTCACTGGCTGAAACTCTCTAGAAGCGGCCGCGAATTCGAAGAAAC'"
      ]
     },
     "execution_count": 53,
     "metadata": {},
     "output_type": "execute_result"
    }
   ],
   "source": [
    "forward_r = forward[::-1] # reverse ORF\n",
    "forward_rc = [complement_dict[x] for x in forward_r] # retrieve complement as list\n",
    "forward_rc = ''.join(forward_rc) # concatenation\n",
    "forward_rc"
   ]
  },
  {
   "attachments": {},
   "cell_type": "markdown",
   "metadata": {},
   "source": [
    "B. Suppose you are designing a guide RNA to knowckout Arabidopsis thaliana transcription factor TRY. The three exons of TRY are given. \n",
    "The SpCas9 recognizes the protospacer adjacent motif(PAM), NGG and CCN (two consecutive guanine or cytosine plus one nucleotide). \n",
    "Find the index of at least one PAM in each of the exons of the gene of TRY using the find() method of strings."
   ]
  },
  {
   "cell_type": "code",
   "execution_count": 70,
   "metadata": {},
   "outputs": [
    {
     "name": "stdout",
     "output_type": "stream",
     "text": [
      "88\n",
      "18\n",
      "2\n",
      "96\n",
      "140\n",
      "151\n"
     ]
    }
   ],
   "source": [
    "exon1 = 'ACAAAGTTAGCCTTCAAAATACTTACAAATCCCAATAAAAGACTTCATCTCCATGTGTATTTGAGTGTCAACGACAAGTCTACACAAAGGGTAAGAGGTCAACAAGACCACACAACACTTCTTACTATTAGTTTTGCAAAGGCCGTTCGTTGGACATTTCCTTCTCTCTCCTCCCCTCTTCTTCTTCTTGTTCGCTCTATAAACTCTCATCTCTCACGTCTTTTTTTCCTTACATTCTCCAAACTCAAAATTTCATCACATTAATTTCTCTCTATTTTTCTTTTCTTACTTCAATAGTAATGGATAACACTGACCGTCGTCGCCGTCGTAAGCAACACAAAATCGCCCTCCATGACTCTGAAG'\n",
    "exon2 = 'AAGTGAGCAGTATCGAATGGGAGTTTATCAACATGACTGAACAAGAAGAAGATCTCATCTTTCGAATGTACAGACTTGTCGGTGATAG'\n",
    "exon3 = 'GTGGGATTTGATAGCAGGAAGAGTTCCTGGAAGACAACCAGAGGAGATAGAGAGATATTGGATAATGAGAAACAGTGAAGGCTTTGCTGATAAACGACGCCAGCTTCACTCATCTTCCCACAAACATACCAAGCCTCACCGTCCTCGCTTTTCTATCTATCCTTCCTAGTGTTTTTGTTTTTAAGCCAACGAAAAAAGAAAATAAAAAAATTATAATAGATGTATAGTAGTGGTTCTTGTTAGTTTGAAGAATTCATCATCTATTGTTTTCTTTTTGTTGTTATTTCATTTATAATTTTTATAGTATAGGTTTCATTTGGTAATCAACTTTAATCCATGCGGTTAGGTTTTTTTATTTTCTCGTCTACGACTTTTATATCCACAACTAGATTTTAATCCGCGGTATATCGCGGTATAATTTACTTTTTAAAGTTAATATATATTAAAACTTG'\n",
    "print(exon1.find('GG'))\n",
    "print(exon2.find('GG'))\n",
    "print(exon3.find('GG'))\n",
    "\n",
    "# You can go beyond the first one by telling the find function to start beyond the first occurrence\n",
    "print(exon1.find('GG', 90))\n",
    "print(exon1.find('GG', 98))\n",
    "print(exon1.find('GG', 142))"
   ]
  },
  {
   "attachments": {},
   "cell_type": "markdown",
   "metadata": {},
   "source": [
    "C. Suppose we have a list of organic compounds to subject to further analysis. We have their SMILES structures, but notice some of the tentries are complexed with smaller ions.\n",
    "We want to retain only the molecule with the longest SMILES structures. Disconnected structures are separated by periods (.) in SMILES. \n",
    "Use the string method split() to obtain a list of structures for D-glucosamine sulfate, determine the lengths of each SMILE, and print the SMILES with the ion removed."
   ]
  },
  {
   "cell_type": "code",
   "execution_count": 72,
   "metadata": {},
   "outputs": [
    {
     "data": {
      "text/plain": [
       "['C([C@H]([C@H]([C@@H]([C@H](C=O)N)O)O)O)O', 'OS(=O)(=O)O']"
      ]
     },
     "execution_count": 72,
     "metadata": {},
     "output_type": "execute_result"
    }
   ],
   "source": [
    "d_glucosamine_sulfate = 'C([C@H]([C@H]([C@@H]([C@H](C=O)N)O)O)O)O.OS(=O)(=O)O' \n",
    "\n",
    "d_glucosamine_sulfate.split(\".\")  # split the SMILES string at the period"
   ]
  },
  {
   "attachments": {},
   "cell_type": "markdown",
   "metadata": {},
   "source": [
    "D. You are extracting optimized energy values from a geometry optimization calculation using the QUICK program (11, 12).\n",
    "The line containing the total energy value is given. Extract the total energy value as a float. "
   ]
  },
  {
   "cell_type": "code",
   "execution_count": 85,
   "metadata": {},
   "outputs": [
    {
     "name": "stdout",
     "output_type": "stream",
     "text": [
      "['TOTAL', 'ENERGY', '=', '-884.004943174']\n"
     ]
    },
    {
     "data": {
      "text/plain": [
       "-884.004943174"
      ]
     },
     "execution_count": 85,
     "metadata": {},
     "output_type": "execute_result"
    }
   ],
   "source": [
    "saveline = ' TOTAL ENERGY =     -884.004943174\\n'\n",
    "savelinelist = saveline.split() # split saveline into list of all separate values\n",
    "print(savelinelist) # shows us what our list is comprised of\n",
    "float(savelinelist[3]) # turn the number (the last index) into a float; this only works because it is comprised of numeric characters ONLY\n"
   ]
  },
  {
   "attachments": {},
   "cell_type": "markdown",
   "metadata": {},
   "source": [
    "## 1.4 Functions\n",
    "Functions reduce unnecessary scripts and possibility for errors.\n",
    "Functions take arguments (inputs) and return an output."
   ]
  },
  {
   "cell_type": "code",
   "execution_count": 87,
   "metadata": {},
   "outputs": [
    {
     "data": {
      "text/plain": [
       "'this function is trivial'"
      ]
     },
     "execution_count": 87,
     "metadata": {},
     "output_type": "execute_result"
    }
   ],
   "source": [
    "def trivial_function():  # we define the function name with def, followed by the function name and ():\n",
    "    return 'this function is trivial' # internal operations of the function are identifiable via indentation\n",
    "    # the operation terminates upon reaching the first return statement\n",
    "\n",
    "trivial_function()"
   ]
  },
  {
   "cell_type": "code",
   "execution_count": 88,
   "metadata": {},
   "outputs": [
    {
     "data": {
      "text/plain": [
       "10"
      ]
     },
     "execution_count": 88,
     "metadata": {},
     "output_type": "execute_result"
    }
   ],
   "source": [
    "def square_plus_one(val): # here, the argument val is a local variable; we do not define it prior to defining the function\n",
    "    return val ** 2 + 1   # the variable is defined when passing an argument into the function\n",
    "\n",
    "square_plus_one(3)"
   ]
  },
  {
   "attachments": {},
   "cell_type": "markdown",
   "metadata": {},
   "source": [
    "Functions can have multiple arguments. Define a function that calculates electrostatic force using Coulomb's law:\n",
    "\n",
    "F = ke * ((q1 * q2)/(r ** 2))\n",
    "\n",
    "- ke is the Coulomb's constant\n",
    "- q is the charge of each particle\n",
    "- r is the radius between the particles"
   ]
  },
  {
   "cell_type": "code",
   "execution_count": 90,
   "metadata": {},
   "outputs": [
    {
     "name": "stdout",
     "output_type": "stream",
     "text": [
      "The force between particles with charges 1.0e-05 C and -2.0e-05 C at 0.1 m is -1.80e+02 N.\n"
     ]
    }
   ],
   "source": [
    "# define relevant constants\n",
    "coulomb_constant = 8.988 * 10 ** 9 # N * m^2 / C^2\n",
    "\n",
    "# define the function for Coulomb force\n",
    "def coulomb_force(q1, q2, r):\n",
    "    ''' q1 (float): charge of particle 1 in Coulombs\n",
    "    q2 (float): charge of particle 2 in Coulombs\n",
    "    r (float): radius between particles in meters''' # adding a text block to explain the f(x) can be used with triple quotes\n",
    "\n",
    "    return coulomb_constant * q1 * q2 / r ** 2\n",
    "\n",
    "\n",
    "force = coulomb_force(10**(-5), -2 * 10**(-5), 0.1)\n",
    "print('The force between particles with charges %.1e C and %.1e C at %.1f m is %.2e N.' % (10**(-5), -2 * 10**(-5), 0.1, force))"
   ]
  },
  {
   "attachments": {},
   "cell_type": "markdown",
   "metadata": {},
   "source": [
    "We can define default values for arguments so that if they are not passed, the function assumes these values. \n",
    "For instance, we can define a function which returns relative probability based on free energy difference:\n",
    "\n",
    "p1 / p2 = exp((F2 - F1) / (kB * T))\n",
    "- p1 / p2 is the probability of state 1 relative to state 2\n",
    "- F is the free energy of the state\n",
    "- kB is the Boltzmann constant\n",
    "- T is temperature"
   ]
  },
  {
   "cell_type": "code",
   "execution_count": 92,
   "metadata": {},
   "outputs": [
    {
     "data": {
      "text/plain": [
       "12.395578077607523"
      ]
     },
     "execution_count": 92,
     "metadata": {},
     "output_type": "execute_result"
    }
   ],
   "source": [
    "# We may assume a temperature of 300 K\n",
    "\n",
    "# import exponentiation function\n",
    "from math import exp\n",
    "\n",
    "# define relevant constants \n",
    "kB = 1.38 * 10 ** (-23) # J/K\n",
    "avogadro_number = 6.022 * 10 ** 23 # in mol^(-1)\n",
    "\n",
    "# convert kB from J/K to kcal/(mol * K)\n",
    "kB = kB * avogadro_number / 4184.00\n",
    "\n",
    "def relative_probability(F1, F2, T=300):\n",
    "    ''' Returns probability of state 1 relative to state 2\n",
    "    F1 (float): free energy of state 1 in kcal/mol\n",
    "    F2 (float): free energy of state 2 in J\n",
    "    T (float): temperature of system in K'''\n",
    "    return exp((F2 - F1) / (kB * T))\n",
    "\n",
    "# suppose state 2 has a relative free energy of 1.5 kcal/mol to state 1\n",
    "relative_probability(0.0, 1.5)\n"
   ]
  },
  {
   "attachments": {},
   "cell_type": "markdown",
   "metadata": {},
   "source": [
    "Suppose we want to vary the temperature as well. We can add temp as an additional argument."
   ]
  },
  {
   "cell_type": "code",
   "execution_count": 93,
   "metadata": {},
   "outputs": [
    {
     "name": "stdout",
     "output_type": "stream",
     "text": [
      "At 250 K: 20.507850.1\n",
      "At 400 K: 6.606175.1\n"
     ]
    }
   ],
   "source": [
    "temp = 250 \n",
    "print('At %d K: %f.1' %(temp, relative_probability(0.0, 1.5, temp)))\n",
    "\n",
    "temp = 400\n",
    "print('At %d K: %f.1' %(temp, relative_probability(0.0, 1.5, temp)))"
   ]
  },
  {
   "attachments": {},
   "cell_type": "markdown",
   "metadata": {},
   "source": [
    "Functions are not limited to numerical operations. Let us take the SMILES of cortisone and produce the SMILES of its enantiomer. Feel free to paste the SMILES into a software like ChemDraw to confirm the SMILES does in fact encode the structure of cortisone. We define a function that inverts all stereogenic centers. The configuration of stereogenic centers is communicated by @ and @@."
   ]
  },
  {
   "cell_type": "code",
   "execution_count": 94,
   "metadata": {},
   "outputs": [
    {
     "data": {
      "text/plain": [
       "'O=C(C=C1CC[C@]2([H])[C@@]3([H])CC[C@](O)([C@@]3(C4)C)C(CO)=O)CC[C@@]1(C)[C@]2([H])C4=O'"
      ]
     },
     "execution_count": 94,
     "metadata": {},
     "output_type": "execute_result"
    }
   ],
   "source": [
    "cortisone = 'O=C(C=C1CC[C@@]2([H])[C@]3([H])CC[C@@](O)([C@]3(C4)C)C(CO)=O)CC[C@]1(C)[C@@]2([H])C4=O'\n",
    "\n",
    "def enantiomer(smiles):\n",
    "    '''return the SMILES of the enantiomer\n",
    "    smiles (string): input structure SMILES'''\n",
    "    # first replace all @ with @@, prompting all @@ to become @@@@\n",
    "    switch1 = smiles.replace('@', '@@')\n",
    "    # because @@@@ was originally @@ we will replace it with @\n",
    "    return switch1.replace('@@@@', '@')\n",
    "\n",
    "enantiomer(cortisone)"
   ]
  },
  {
   "attachments": {},
   "cell_type": "markdown",
   "metadata": {},
   "source": [
    "We can do the operatiohn more efficiently, however it will be less obvious than if we name the function enantiomer.\n",
    "The operation replace() has no chemical context, and we assign chemical meaning ourselves by using the function titled enantiomer."
   ]
  },
  {
   "cell_type": "code",
   "execution_count": 95,
   "metadata": {},
   "outputs": [
    {
     "data": {
      "text/plain": [
       "'O=C(C=C1CC[C@]2([H])[C@@]3([H])CC[C@](O)([C@@]3(C4)C)C(CO)=O)CC[C@@]1(C)[C@]2([H])C4=O'"
      ]
     },
     "execution_count": 95,
     "metadata": {},
     "output_type": "execute_result"
    }
   ],
   "source": [
    "cortisone.replace('@', '@@').replace('@@@@', '@')"
   ]
  },
  {
   "attachments": {},
   "cell_type": "markdown",
   "metadata": {},
   "source": [
    "We can double check that both outputs are the same with =="
   ]
  },
  {
   "cell_type": "code",
   "execution_count": 96,
   "metadata": {},
   "outputs": [
    {
     "data": {
      "text/plain": [
       "True"
      ]
     },
     "execution_count": 96,
     "metadata": {},
     "output_type": "execute_result"
    }
   ],
   "source": [
    "enantiomer(cortisone) == _   # using the underscore pulls the most recent output"
   ]
  },
  {
   "attachments": {},
   "cell_type": "markdown",
   "metadata": {},
   "source": [
    "A lambda function applies a function locally in one line. It only returns one expression. \n",
    "\n",
    "It follows the syntax: lambda input: expression"
   ]
  },
  {
   "cell_type": "code",
   "execution_count": 97,
   "metadata": {},
   "outputs": [
    {
     "data": {
      "text/plain": [
       "64"
      ]
     },
     "execution_count": 97,
     "metadata": {},
     "output_type": "execute_result"
    }
   ],
   "source": [
    "cube = lambda x: x ** 3\n",
    "\n",
    "cube(4)"
   ]
  },
  {
   "attachments": {},
   "cell_type": "markdown",
   "metadata": {},
   "source": [
    "While developing, you may write out the names of all the functions you plan to have, then implement them individually. Empty functions will raise an error, preventing you from testing each function. During development, put a pass statement in functions to avoid errors."
   ]
  },
  {
   "cell_type": "code",
   "execution_count": 98,
   "metadata": {},
   "outputs": [
    {
     "data": {
      "text/plain": [
       "7.5"
      ]
     },
     "execution_count": 98,
     "metadata": {},
     "output_type": "execute_result"
    }
   ],
   "source": [
    "def identity_function(value):\n",
    "    return value\n",
    "\n",
    "def inverse(value):\n",
    "    pass\n",
    "\n",
    "identity_function(7.5)"
   ]
  },
  {
   "attachments": {},
   "cell_type": "markdown",
   "metadata": {},
   "source": [
    "Running the previous cell block highlights this idea, as we test the identity function and ignore the inverse function for the time being."
   ]
  },
  {
   "attachments": {},
   "cell_type": "markdown",
   "metadata": {},
   "source": [
    "### 1.4.1 Practice Problems\n",
    "\n",
    "A. Write a function that returns the index of a tobacco etch virus (TEV) protease recognition site in a peptide sequence. The TEV site is the sequence, ENLYFQ. While the sequence, ENLYFQS exhibits the greatest catalytic efficiency, the last position can also be G, A, M, C, or H. Run the function on the peptide sequence of recombinant sarafotoxin."
   ]
  },
  {
   "cell_type": "code",
   "execution_count": 113,
   "metadata": {},
   "outputs": [
    {
     "data": {
      "text/plain": [
       "243"
      ]
     },
     "execution_count": 113,
     "metadata": {},
     "output_type": "execute_result"
    }
   ],
   "source": [
    "recombinant_sarafotoxin = 'MKDDAAIQQTLAKMGIKSSDIQPAPVAGMKTVLTNSGVLYITDDGKHIIQGPMYDVSGTAPVNVTNKMLLKQLNALEKEMIVYKAPQEKHVITVFTDITCGYCHKLHEQMADYNALGITVRYLAFPRQGLDSDAEKEMKAIWCAKDKNKAFDDVMAGKSVAPASCDVDIADHYALGVQLGVSGTPAVVLSNGTLVPGYQPPKEMKEFLDEHQKMTSGKGSTSGSGHHHHHHGTMTSLYKKAGLENLYFQCTCKDMTDKECLYFCHQDIIW'\n",
    "\n",
    "def site_recognition(value):\n",
    "    return value.find('ENLYFQ')\n",
    "\n",
    "site_recognition(recombinant_sarafotoxin)"
   ]
  },
  {
   "attachments": {},
   "cell_type": "markdown",
   "metadata": {},
   "source": [
    "B. Write two functions: the first function returns the rxn quotient Q, the second is the Nernst equation which returns the reduction potential. \n",
    "\n",
    "Nernst equation: deltaE = deltaE.naught - ((R * T)/(n * F) * ln(Q))\n",
    "- deltaE is the change in reduction potential\n",
    "- deltaE.naught is the change in standard reduction potential\n",
    "- R is the ideal gas constant (8.314 J * mol * K)\n",
    "- T is the temperature\n",
    "- n is the number of electrons involved\n",
    "- F is the Faraday's constant (96.49 kJ * V * mol)\n",
    "- Q is the rxn quotient\n",
    "\n",
    "Calculate the reduction potential of the following reaction, in which:\n",
    "- [Ag+] = 0.04 mM \n",
    "- [Mn2+] = 0.13 mM\n"
   ]
  },
  {
   "cell_type": "code",
   "execution_count": 128,
   "metadata": {},
   "outputs": [
    {
     "name": "stdout",
     "output_type": "stream",
     "text": [
      "81250.0\n",
      "-0.5306158727128222\n"
     ]
    }
   ],
   "source": [
    "import math\n",
    "\n",
    "Ag = 0.04 * 10 ** (-3) # M\n",
    "Mn = 0.13 * 10 ** (-3) # M\n",
    "R = 8.314 / 1000 # kJ*mol*K\n",
    "n = 2 # electrons involved\n",
    "F = 96.49 # kJ*V*mol\n",
    "T = 298.15 # K @ STP\n",
    "\n",
    "\n",
    "def rxn_quotient(product, reactant):\n",
    "    return (product / (reactant ** 2))\n",
    "\n",
    "print(rxn_quotient(Mn, Ag))\n",
    "\n",
    "# take the natural log of Q for use in the Nernst eqn\n",
    "lnQ = log(rxn_quotient(Mn, Ag)) \n",
    "\n",
    "# calculate standard reduction potential change\n",
    "deltaE_naught = 0.7996 - 1.185 # V\n",
    "\n",
    "def nernst():\n",
    "    deltaE = deltaE_naught - (((R * T) / (n * F)) * lnQ)\n",
    "    return(deltaE)\n",
    "\n",
    "print(nernst()) # this output is in Volts\n",
    "\n"
   ]
  },
  {
   "attachments": {},
   "cell_type": "markdown",
   "metadata": {},
   "source": [
    "C. The source code of a function is given but is written poorly. The function and variable names are cryptic and there is no annotation. Retain the behavior of the function but update it in a readable way. Use the updated function to solve the following problem: 3-Hydroxy-1-(naphthalen-1-yl)pent-4-en-1-one (C15H14O2) was synthesized. The exact mass of the sodiated adduct was determined to be 249.0881 via high-resolution mass spectrometry (HRMS). Determine whether the measurement is consistent with calculated exact mass."
   ]
  },
  {
   "cell_type": "code",
   "execution_count": 137,
   "metadata": {},
   "outputs": [
    {
     "name": "stdout",
     "output_type": "stream",
     "text": [
      "The mass of the sodiated compound is 249.089150 daltons\n",
      "The non-sodiated mass is 226.099380 daltons\n"
     ]
    }
   ],
   "source": [
    "exact_masses = {'C': 12.000000, 'H': 1.007825, 'O': 15.994915, 'N': 14.003074, 'Na': 22.989770}\n",
    "\n",
    "'''Original Function\n",
    "def op(w, x, y, z):\n",
    "    w + x + y + z\n",
    "    x = 12.000000 * w + 1.007825 * x + 14.003074 * z + 15.994915 * y\n",
    "    return x\n",
    "\n",
    "def operation(x,y):\n",
    "    return x - (y + 22.989770) '''\n",
    "\n",
    "def mass(C, H, O, Na):\n",
    "    m = 12.000000 * C + 1.007825 * H + 15.994915 * O + 22.989770 * Na\n",
    "    return m\n",
    "\n",
    "print('The mass of the sodiated compound is %f daltons' % mass(15, 14, 2, 1)) # mass of the sodiated compound\n",
    "\n",
    "def non_sodiated_mass(m, Na):\n",
    "    return m - (Na * 22.989770)\n",
    "\n",
    "print('The non-sodiated mass is %f daltons' % non_sodiated_mass(mass(15, 14, 2, 1), 1)) # mass of the non-sodiated compound"
   ]
  },
  {
   "attachments": {},
   "cell_type": "markdown",
   "metadata": {},
   "source": [
    "D. The radioactive decay of carbon-11 to boron-11 has a half-life of 20.364 min. Radioactive decay follows first order kinetics, for which Ni is t he number of atoms at time i, k is the radioactive decay constant, and t is the time. The occupational value of carbon-11 dioxide derived air concentration (DAC) is 0.03 nCi/mL. Suppose a measurement of 0.03 nCi/mL is considered acceptable at a workplace; however, 0.17 nCi/mL was measured. Operations need to be shut down for 51 min to return to 0.03 nCi/mL; however, something is wrong in the code below to calculate this. Debug the script. "
   ]
  },
  {
   "cell_type": "code",
   "execution_count": 147,
   "metadata": {},
   "outputs": [
    {
     "name": "stdout",
     "output_type": "stream",
     "text": [
      "50.960916934536286 minutes\n"
     ]
    }
   ],
   "source": [
    "from math import log\n",
    "\n",
    "def k_from_halflife(halflife):\n",
    "    '''Calculate decay constant k from halflife in inverse time'''\n",
    "    return -log(1/2)/(halflife)\n",
    "\n",
    "def time_relative(fraction, k):\n",
    "    '''Calculate the time taken for radioactive decay with decay constant k \n",
    "    to achieve a fraction of the initial amount.'''\n",
    "    return -log(fraction)/k\n",
    "\n",
    "halflife = 20.364 # minutes\n",
    "k = k_from_halflife(halflife)\n",
    "time_shutdown = time_relative((0.03/0.17), k)\n",
    "print(time_shutdown, 'minutes')"
   ]
  },
  {
   "attachments": {},
   "cell_type": "markdown",
   "metadata": {},
   "source": [
    "### 1.5 Conditional Statements\n",
    "\n",
    "Conditional statements allow us to test a variable against a value and perform an action if the condition is met by the variable or perform another action if not. The type of variables that control this kind of statement are called Boolean."
   ]
  },
  {
   "attachments": {},
   "cell_type": "markdown",
   "metadata": {},
   "source": [
    "### 1.5.1 Boolean Variables\n",
    "\n",
    "We encode logic using conditional statements. Conditional statements run a block of code if the statement is true and skips it otherwise. The Boolean data type represents the true/false binary. There are no partial truths. A statement is either true or false, and nothing else."
   ]
  },
  {
   "cell_type": "code",
   "execution_count": 2,
   "metadata": {},
   "outputs": [
    {
     "name": "stdout",
     "output_type": "stream",
     "text": [
      "Correct\n"
     ]
    }
   ],
   "source": [
    "# Compute the following: 13 * 17 + 19 = x\n",
    "\n",
    "answer = 13 * 17 + 19\n",
    "\n",
    "if answer == 240: \n",
    "    print('Correct')\n",
    "else: \n",
    "    print('Nah')"
   ]
  },
  {
   "attachments": {},
   "cell_type": "markdown",
   "metadata": {},
   "source": [
    "Here two conditional statements are used. The *if* statement receives a Boolean. If the statement is true, then it prints \"Correct\". The statement is: the response equals 13 times 17 plus 19. \n",
    "\n",
    "Another statement used here is the *else* statement. If the prior *if* statement is false, the code block of the *else* statement is executed instead. The if-block and else-block are mutually exclusive. Mutually exclusive blocks of code can be strung together with the *elif* statement, short for \"else if\". Suppose we want to assess whether an integer is dvisible by 16 or 4."
   ]
  },
  {
   "cell_type": "code",
   "execution_count": 3,
   "metadata": {},
   "outputs": [
    {
     "name": "stdout",
     "output_type": "stream",
     "text": [
      "88 is divisible by 4.\n"
     ]
    }
   ],
   "source": [
    "# prompt user for response, then convert it to an integer\n",
    "an_integer = 88 \n",
    "\n",
    "# if the mod of the integer by 16 equals zero (if the integer is divisible by 16)\n",
    "if an_integer % 16 == 0:\n",
    "    print('%d is divisible by 16.' %an_integer)\n",
    " # else if the mod of the integer by 4 equals zero\n",
    "elif an_integer % 4 == 0: \n",
    "    print('%d is divisible by 4.' %an_integer)\n",
    "else:\n",
    "    print('%d is divisible by neither 16 or 4.' %an_integer)"
   ]
  },
  {
   "attachments": {},
   "cell_type": "markdown",
   "metadata": {},
   "source": [
    "If the integer is divisible by 16, then it is divisible by 4. Thus, it is unnecessary to run the code block specifying the integer is divisible by 4, so if the first block executes, we want to skip the rest. There is no limit to the number of *elif* statements to follow an *if* statement. \n",
    "\n",
    "Let us list some numerical comparisons. "
   ]
  },
  {
   "cell_type": "code",
   "execution_count": 5,
   "metadata": {},
   "outputs": [
    {
     "data": {
      "text/plain": [
       "False"
      ]
     },
     "execution_count": 5,
     "metadata": {},
     "output_type": "execute_result"
    }
   ],
   "source": [
    "# equals \n",
    "5 == 7"
   ]
  },
  {
   "cell_type": "code",
   "execution_count": 6,
   "metadata": {},
   "outputs": [
    {
     "data": {
      "text/plain": [
       "True"
      ]
     },
     "execution_count": 6,
     "metadata": {},
     "output_type": "execute_result"
    }
   ],
   "source": [
    "# inequals\n",
    "5 != 7"
   ]
  },
  {
   "cell_type": "code",
   "execution_count": 7,
   "metadata": {},
   "outputs": [
    {
     "data": {
      "text/plain": [
       "True"
      ]
     },
     "execution_count": 7,
     "metadata": {},
     "output_type": "execute_result"
    }
   ],
   "source": [
    "# less than\n",
    "5 < 7 "
   ]
  },
  {
   "cell_type": "code",
   "execution_count": 8,
   "metadata": {},
   "outputs": [
    {
     "data": {
      "text/plain": [
       "False"
      ]
     },
     "execution_count": 8,
     "metadata": {},
     "output_type": "execute_result"
    }
   ],
   "source": [
    "# greater than \n",
    "5 > 7"
   ]
  },
  {
   "cell_type": "code",
   "execution_count": 9,
   "metadata": {},
   "outputs": [
    {
     "data": {
      "text/plain": [
       "True"
      ]
     },
     "execution_count": 9,
     "metadata": {},
     "output_type": "execute_result"
    }
   ],
   "source": [
    "# less than or equal to\n",
    "5 <= 7"
   ]
  },
  {
   "cell_type": "code",
   "execution_count": 10,
   "metadata": {},
   "outputs": [
    {
     "data": {
      "text/plain": [
       "False"
      ]
     },
     "execution_count": 10,
     "metadata": {},
     "output_type": "execute_result"
    }
   ],
   "source": [
    "# greater than or equal to\n",
    "5 >= 7"
   ]
  },
  {
   "cell_type": "code",
   "execution_count": 11,
   "metadata": {},
   "outputs": [
    {
     "data": {
      "text/plain": [
       "False"
      ]
     },
     "execution_count": 11,
     "metadata": {},
     "output_type": "execute_result"
    }
   ],
   "source": [
    "# Strings can also be compared\n",
    "sierra = 'Sierra'\n",
    "nevada = 'Nevada'\n",
    "\n",
    "sierra == nevada"
   ]
  },
  {
   "cell_type": "code",
   "execution_count": 13,
   "metadata": {},
   "outputs": [
    {
     "data": {
      "text/plain": [
       "True"
      ]
     },
     "execution_count": 13,
     "metadata": {},
     "output_type": "execute_result"
    }
   ],
   "source": [
    "sierra != nevada"
   ]
  },
  {
   "attachments": {},
   "cell_type": "markdown",
   "metadata": {},
   "source": [
    "We can also search whether a subsequence is found within another sequence. Take the SMILES for L-alanine. Let observe whether it contains a carboxylic acid. "
   ]
  },
  {
   "cell_type": "code",
   "execution_count": 14,
   "metadata": {},
   "outputs": [
    {
     "data": {
      "text/plain": [
       "True"
      ]
     },
     "execution_count": 14,
     "metadata": {},
     "output_type": "execute_result"
    }
   ],
   "source": [
    "ala = 'N[C@@H](C)C(O)=O'\n",
    "acid = 'C(O)=O'\n",
    "\n",
    "acid in ala"
   ]
  },
  {
   "cell_type": "code",
   "execution_count": 15,
   "metadata": {},
   "outputs": [
    {
     "data": {
      "text/plain": [
       "False"
      ]
     },
     "execution_count": 15,
     "metadata": {},
     "output_type": "execute_result"
    }
   ],
   "source": [
    "acid not in ala"
   ]
  },
  {
   "attachments": {},
   "cell_type": "markdown",
   "metadata": {},
   "source": [
    "We handle multiple Booleans using logic gates. Let A and B be two statements. A AND B is true only if both A and B are true. A OR B is true if at least one of A or B is true. The NOT gate flips true and false, so NOT A is true if A is false."
   ]
  },
  {
   "cell_type": "code",
   "execution_count": 16,
   "metadata": {},
   "outputs": [
    {
     "data": {
      "text/plain": [
       "True"
      ]
     },
     "execution_count": 16,
     "metadata": {},
     "output_type": "execute_result"
    }
   ],
   "source": [
    "# AND gate\n",
    "True and True"
   ]
  },
  {
   "cell_type": "code",
   "execution_count": 17,
   "metadata": {},
   "outputs": [
    {
     "data": {
      "text/plain": [
       "False"
      ]
     },
     "execution_count": 17,
     "metadata": {},
     "output_type": "execute_result"
    }
   ],
   "source": [
    "True and False"
   ]
  },
  {
   "cell_type": "code",
   "execution_count": 18,
   "metadata": {},
   "outputs": [
    {
     "data": {
      "text/plain": [
       "False"
      ]
     },
     "execution_count": 18,
     "metadata": {},
     "output_type": "execute_result"
    }
   ],
   "source": [
    "False and False"
   ]
  },
  {
   "cell_type": "code",
   "execution_count": 19,
   "metadata": {},
   "outputs": [
    {
     "data": {
      "text/plain": [
       "True"
      ]
     },
     "execution_count": 19,
     "metadata": {},
     "output_type": "execute_result"
    }
   ],
   "source": [
    "# OR gate \n",
    "True or True"
   ]
  },
  {
   "cell_type": "code",
   "execution_count": 20,
   "metadata": {},
   "outputs": [
    {
     "data": {
      "text/plain": [
       "True"
      ]
     },
     "execution_count": 20,
     "metadata": {},
     "output_type": "execute_result"
    }
   ],
   "source": [
    "False or True"
   ]
  },
  {
   "cell_type": "code",
   "execution_count": 21,
   "metadata": {},
   "outputs": [
    {
     "data": {
      "text/plain": [
       "False"
      ]
     },
     "execution_count": 21,
     "metadata": {},
     "output_type": "execute_result"
    }
   ],
   "source": [
    "False or False"
   ]
  },
  {
   "cell_type": "code",
   "execution_count": 22,
   "metadata": {},
   "outputs": [
    {
     "data": {
      "text/plain": [
       "False"
      ]
     },
     "execution_count": 22,
     "metadata": {},
     "output_type": "execute_result"
    }
   ],
   "source": [
    "# NOT gate\n",
    "not True"
   ]
  },
  {
   "cell_type": "code",
   "execution_count": 23,
   "metadata": {},
   "outputs": [
    {
     "data": {
      "text/plain": [
       "True"
      ]
     },
     "execution_count": 23,
     "metadata": {},
     "output_type": "execute_result"
    }
   ],
   "source": [
    "not False"
   ]
  },
  {
   "attachments": {},
   "cell_type": "markdown",
   "metadata": {},
   "source": [
    "Other logic gates can be implemented as a combination of these logic gates. For instance, consider the exclusive-or gate XOR, in which A XOR B is true if exactly one of A or B is true. This can be implemented by (A OR B) AND (NOT (A AND B))."
   ]
  },
  {
   "cell_type": "code",
   "execution_count": 24,
   "metadata": {},
   "outputs": [
    {
     "name": "stdout",
     "output_type": "stream",
     "text": [
      "xor(True, True):  False\n",
      "xor(True, False):  True\n",
      "xor(False, True):  True\n",
      "xor(False, False):  False\n"
     ]
    }
   ],
   "source": [
    "def xor(A, B):\n",
    "    '''exclusive or of booleans A and B'''\n",
    "    return (A or B) and (not (A and B))\n",
    "\n",
    "print('xor(True, True): ', xor(True, True))\n",
    "print('xor(True, False): ', xor(True, False))\n",
    "print('xor(False, True): ', xor(False, True))\n",
    "print('xor(False, False): ', xor(False, False))"
   ]
  },
  {
   "attachments": {},
   "cell_type": "markdown",
   "metadata": {},
   "source": []
  },
  {
   "cell_type": "code",
   "execution_count": null,
   "metadata": {},
   "outputs": [],
   "source": []
  }
 ],
 "metadata": {
  "kernelspec": {
   "display_name": "Python 3.10.4 64-bit",
   "language": "python",
   "name": "python3"
  },
  "language_info": {
   "codemirror_mode": {
    "name": "ipython",
    "version": 3
   },
   "file_extension": ".py",
   "mimetype": "text/x-python",
   "name": "python",
   "nbconvert_exporter": "python",
   "pygments_lexer": "ipython3",
   "version": "3.10.4"
  },
  "orig_nbformat": 4,
  "vscode": {
   "interpreter": {
    "hash": "aee8b7b246df8f9039afb4144a1f6fd8d2ca17a180786b69acc140d282b71a49"
   }
  }
 },
 "nbformat": 4,
 "nbformat_minor": 2
}
