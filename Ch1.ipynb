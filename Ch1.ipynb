{
 "cells": [
  {
   "cell_type": "code",
   "execution_count": 4,
   "metadata": {},
   "outputs": [
    {
     "name": "stdout",
     "output_type": "stream",
     "text": [
      "Numerical Operations Introduction\n",
      "12\n",
      "-2\n",
      "35\n",
      "0.7142857142857143\n",
      "78125\n",
      "5\n"
     ]
    }
   ],
   "source": [
    "print(\"Numerical Operations Introduction\")\n",
    "\n",
    "#Use print() to ensure all calculations are displayed, otherwise the most recent calculation is the only result that will show\n",
    "#addition\n",
    "print(5 + 7)\n",
    "\n",
    "#subtraction \n",
    "print(5 - 7)\n",
    "\n",
    "#multiplication \n",
    "print(5 * 7)\n",
    "\n",
    "#division \n",
    "print(5 / 7)\n",
    "\n",
    "#exponentiation \n",
    "print(5 ** 7)\n",
    "\n",
    "#modulus\n",
    "print(5 & 7)"
   ]
  },
  {
   "cell_type": "code",
   "execution_count": 5,
   "metadata": {},
   "outputs": [
    {
     "name": "stdout",
     "output_type": "stream",
     "text": [
      "Variables\n"
     ]
    },
    {
     "data": {
      "text/plain": [
       "12"
      ]
     },
     "execution_count": 5,
     "metadata": {},
     "output_type": "execute_result"
    }
   ],
   "source": [
    "print(\"Variables\")\n",
    "\n",
    "#use the equal sign to assign variables\n",
    "#ensure to assign descriptive names to variables to make your code clear and understandable\n",
    "\n",
    "five = 5\n",
    "seven = 7\n",
    "five + seven"
   ]
  },
  {
   "cell_type": "code",
   "execution_count": 7,
   "metadata": {},
   "outputs": [
    {
     "name": "stdout",
     "output_type": "stream",
     "text": [
      "Calculating the number of phenylalanine molecules in 1.00 g of phenlyalanine hydrochloride.\n",
      "1.00 g of Phe-HCl contains 2.99e+21 Phe molecules\n"
     ]
    }
   ],
   "source": [
    "print(\"Calculating the number of phenylalanine molecules in 1.00 g of phenlyalanine hydrochloride.\")\n",
    "\n",
    "#assign constants to variables (your givens)\n",
    "avogadro_number = 6.022 * 10 ** 23\n",
    "phe_hcl_mw = 201.65 #MW of L-phenlyalanine hydrochloride in g/mol\n",
    "\n",
    "#calculate the number of Phe molecules\n",
    "num_phe = 1.00 / phe_hcl_mw * avogadro_number\n",
    "\n",
    "#print result with units\n",
    "print(\"1.00 g of Phe-HCl contains %.2e Phe molecules\" %num_phe)"
   ]
  },
  {
   "cell_type": "code",
   "execution_count": 1,
   "metadata": {},
   "outputs": [
    {
     "name": "stdout",
     "output_type": "stream",
     "text": [
      "Same result with less context\n"
     ]
    },
    {
     "data": {
      "text/plain": [
       "2.9863625092982893e+21"
      ]
     },
     "execution_count": 1,
     "metadata": {},
     "output_type": "execute_result"
    }
   ],
   "source": [
    "print(\"Same result with less context\")\n",
    "\n",
    "#we can carry out the previous calculation without having to write as much code\n",
    "#HOWEVER, this can leads to more errors and does not make what you are doing as obvious\n",
    "#make sure to write comments to explain what you're doing\n",
    "1.00 / 201.65 * 6.022 * 10 ** 23"
   ]
  },
  {
   "cell_type": "code",
   "execution_count": null,
   "metadata": {},
   "outputs": [],
   "source": []
  }
 ],
 "metadata": {
  "kernelspec": {
   "display_name": "Python 3.10.4 64-bit",
   "language": "python",
   "name": "python3"
  },
  "language_info": {
   "codemirror_mode": {
    "name": "ipython",
    "version": 3
   },
   "file_extension": ".py",
   "mimetype": "text/x-python",
   "name": "python",
   "nbconvert_exporter": "python",
   "pygments_lexer": "ipython3",
   "version": "3.10.4"
  },
  "orig_nbformat": 4,
  "vscode": {
   "interpreter": {
    "hash": "aee8b7b246df8f9039afb4144a1f6fd8d2ca17a180786b69acc140d282b71a49"
   }
  }
 },
 "nbformat": 4,
 "nbformat_minor": 2
}
